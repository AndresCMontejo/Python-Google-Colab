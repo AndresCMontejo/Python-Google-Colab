{
  "nbformat": 4,
  "nbformat_minor": 0,
  "metadata": {
    "colab": {
      "provenance": [],
      "include_colab_link": true
    },
    "kernelspec": {
      "name": "python3",
      "display_name": "Python 3"
    },
    "language_info": {
      "name": "python"
    }
  },
  "cells": [
    {
      "cell_type": "markdown",
      "metadata": {
        "id": "view-in-github",
        "colab_type": "text"
      },
      "source": [
        "<a href=\"https://colab.research.google.com/github/AndresCMontejo/Python-Google-Colab/blob/main/Python_Data_Science.ipynb\" target=\"_parent\"><img src=\"https://colab.research.google.com/assets/colab-badge.svg\" alt=\"Open In Colab\"/></a>"
      ]
    },
    {
      "cell_type": "markdown",
      "source": [
        "# Python para Data Science\n",
        "\n",
        "Notebook para el curso de Python para Data Science publicado en la plataforma de [Alura Latam](https://www.aluracursos.com/)"
      ],
      "metadata": {
        "id": "lQx6Mmv0OJyT"
      }
    },
    {
      "cell_type": "markdown",
      "source": [
        "# Introducción a Python\n",
        "¡Vamos a conocer Python, nuestro ambiente de estudio, y también generaremos nuestro primer código en este lenguaje!"
      ],
      "metadata": {
        "id": "7SiB6JIpYKmY"
      }
    },
    {
      "cell_type": "markdown",
      "source": [
        "## Google Colaboratory\n",
        "\n",
        "Ya aprendimos qué es [Python](https://www.python.org/) y ahora aprenderemos a usar nuestra herramienta de ejecución [Google Colaboratory](https://colab.research.google.com/) para programar en un notebook interactivo.\n",
        "\n",
        "Vamos a probar algunas funciones de este ambiente."
      ],
      "metadata": {
        "id": "Yugfb3fCOYY9"
      }
    },
    {
      "cell_type": "markdown",
      "source": [
        " **`>>> Usa esta celda para mover <<<`**"
      ],
      "metadata": {
        "id": "2iUHQsJasJAk"
      }
    },
    {
      "cell_type": "code",
      "source": [
        "print(\"¡Hola mundo!\")"
      ],
      "metadata": {
        "id": "o7jrX_iKhdkU",
        "outputId": "47256133-7862-42d6-dcff-b5fb4df85be1",
        "colab": {
          "base_uri": "https://localhost:8080/"
        }
      },
      "execution_count": null,
      "outputs": [
        {
          "output_type": "stream",
          "name": "stdout",
          "text": [
            "¡Hola mundo!\n"
          ]
        }
      ]
    },
    {
      "cell_type": "markdown",
      "source": [
        "## ¡Hola mundo!\n",
        "\n",
        "Vamos a conocer un poco más de cerca nuestro notebook. Para ello ejecutaremos nuestro primer comando en Python: [`print()`](https://docs.python.org/3/library/functions.html#print)"
      ],
      "metadata": {
        "id": "aLSFP2V7XTfe"
      }
    },
    {
      "cell_type": "code",
      "source": [
        "print(\"¡Primera linea!\")"
      ],
      "metadata": {
        "id": "0qZX8_ZQBYyk",
        "outputId": "83cb25f2-239e-4719-ba0b-52ab83749382",
        "colab": {
          "base_uri": "https://localhost:8080/"
        }
      },
      "execution_count": null,
      "outputs": [
        {
          "output_type": "stream",
          "name": "stdout",
          "text": [
            "¡Primera linea!\n"
          ]
        }
      ]
    },
    {
      "cell_type": "code",
      "source": [
        "id(8)"
      ],
      "metadata": {
        "id": "GLMzF_AKBY7a",
        "outputId": "1c1ab926-a3a0-4010-9506-dba1914fc4d3",
        "colab": {
          "base_uri": "https://localhost:8080/"
        }
      },
      "execution_count": null,
      "outputs": [
        {
          "output_type": "execute_result",
          "data": {
            "text/plain": [
              "10751080"
            ]
          },
          "metadata": {},
          "execution_count": 3
        }
      ]
    },
    {
      "cell_type": "markdown",
      "source": [
        "# Manipulando los datos\n",
        "\n",
        "Vamos a aprender sobre las variables en Python, cómo declararlas y utilizarlas además de conocer otros comandos de este lenguaje. :D"
      ],
      "metadata": {
        "id": "iP8uWQmFYFRs"
      }
    },
    {
      "cell_type": "markdown",
      "source": [
        "## Variables\n",
        "\n",
        "En Data Science trabajamos con varios tipos de datos e informaciones, entonces es esencial saber cómo trabajar con las variables."
      ],
      "metadata": {
        "id": "sLNVmnTbag1Z"
      }
    },
    {
      "cell_type": "markdown",
      "source": [
        "Las variables en Python se crean cuando atribuimos un valor a ella.\n",
        "\n",
        "Para esto, colocamos el nombre de la variable, el signo de igual (`=`) y el valor que queremos atribuirle."
      ],
      "metadata": {
        "id": "lsCY0wahAbf6"
      }
    },
    {
      "cell_type": "code",
      "source": [
        "elemento_uno = \"Cadena\"\n",
        "print(elemento_uno)"
      ],
      "metadata": {
        "id": "vsHh5buZADND",
        "colab": {
          "base_uri": "https://localhost:8080/"
        },
        "outputId": "72187378-19ff-4433-a54d-bdc0d904e9b6"
      },
      "execution_count": null,
      "outputs": [
        {
          "output_type": "stream",
          "name": "stdout",
          "text": [
            "Cadena\n"
          ]
        }
      ]
    },
    {
      "cell_type": "code",
      "source": [
        "elementos_dos = 10\n",
        "print(elementos_dos)"
      ],
      "metadata": {
        "id": "sivPtqSjADQV",
        "colab": {
          "base_uri": "https://localhost:8080/"
        },
        "outputId": "4cb267cf-b24d-4444-9857-3dabd051027e"
      },
      "execution_count": null,
      "outputs": [
        {
          "output_type": "stream",
          "name": "stdout",
          "text": [
            "10\n"
          ]
        }
      ]
    },
    {
      "cell_type": "code",
      "source": [
        "elemento_tres = True\n",
        "print(elemento_tres)"
      ],
      "metadata": {
        "id": "JC8jO47wADlm",
        "colab": {
          "base_uri": "https://localhost:8080/"
        },
        "outputId": "21f77f66-1eed-46bd-de81-46788a202fc9"
      },
      "execution_count": null,
      "outputs": [
        {
          "output_type": "stream",
          "name": "stdout",
          "text": [
            "True\n"
          ]
        }
      ]
    },
    {
      "cell_type": "markdown",
      "source": [
        "Existen algunos tipos de nomes que **no** podemos definir para las variables:\n",
        "\n",
        "- **Nombres que comiencen con números**\n",
        "  - Ejemplos: `10_notas`, `2_nombre_casa`, etc.\n",
        "- **Palabras separadas por espacio**\n",
        "  - Ejemplos: `Nombre escuela`, `notas estudiantes`, etc.\n",
        "- **Nombres de funciones de Python**\n",
        "  - Ejemplos: `print`, `type`, etc."
      ],
      "metadata": {
        "id": "om2N0jHKAzwL"
      }
    },
    {
      "cell_type": "markdown",
      "source": [
        "> Las letras mayúsculas y minúsculas generarán diferentes variables. La variable `edad` es diferente de `Edad` que a su vez es diferente de `EDAD`:\n",
        "``` Python\n",
        "edad = 1\n",
        "Edad = 2\n",
        "EDAD = 3\n",
        "_edad = 4\n",
        "_edad_ = 5\n",
        "print(edad, Edad, EDAD, _edad, _edad_)\n",
        "1 2 3 4 5\n",
        "```"
      ],
      "metadata": {
        "id": "A19vY2GVMujB"
      }
    },
    {
      "cell_type": "markdown",
      "source": [
        "## Tipos de variables\n",
        "\n",
        "Cada variable contiene una clase específica con respecto al tipo de objeto al cual esta hace referencia. Estas clases serán diferentes de acuerdo con el tipo de dato que le sea atribuido a una variable.\n",
        "\n",
        "Para conocer la clase de cada elemento usamos la función [`type()`](https://docs.python.org/3/library/functions.html#type)"
      ],
      "metadata": {
        "id": "UqhzuBhBHsps"
      }
    },
    {
      "cell_type": "code",
      "source": [
        "caracteres = \"cadena\"\n",
        "type(caracteres)"
      ],
      "metadata": {
        "id": "J5a9t73A_-PX",
        "colab": {
          "base_uri": "https://localhost:8080/"
        },
        "outputId": "acc6770c-df58-4202-fc2e-f87a9b49efd7"
      },
      "execution_count": null,
      "outputs": [
        {
          "output_type": "execute_result",
          "data": {
            "text/plain": [
              "str"
            ]
          },
          "metadata": {},
          "execution_count": 15
        }
      ]
    },
    {
      "cell_type": "code",
      "source": [
        "numero = 10\n",
        "type(numero)"
      ],
      "metadata": {
        "id": "rqmO1ew-_-So",
        "colab": {
          "base_uri": "https://localhost:8080/"
        },
        "outputId": "1d0afd4f-3e45-459f-db1f-b44ef237d215"
      },
      "execution_count": null,
      "outputs": [
        {
          "output_type": "execute_result",
          "data": {
            "text/plain": [
              "int"
            ]
          },
          "metadata": {},
          "execution_count": 16
        }
      ]
    },
    {
      "cell_type": "code",
      "source": [
        "condicional = True\n",
        "type(condicional)"
      ],
      "metadata": {
        "id": "xkrPMkeY_-cP",
        "colab": {
          "base_uri": "https://localhost:8080/"
        },
        "outputId": "6713d2c8-e760-4751-a0d0-417b36459904"
      },
      "execution_count": null,
      "outputs": [
        {
          "output_type": "execute_result",
          "data": {
            "text/plain": [
              "bool"
            ]
          },
          "metadata": {},
          "execution_count": 17
        }
      ]
    },
    {
      "cell_type": "markdown",
      "source": [
        "En un conjunto de datos escolares podemos tener varios tipos de informaciones. Supongamos que tenemos acceso a la ficha de datos del alumno *Penélope Camacho*, cómo transformamos este nombre en variables de Python?\n",
        "\n",
        "#### Ficha:\n",
        "\n",
        "- Nombre: Penélope Camacho\n",
        "- Edad: 11 años\n",
        "- Promedio del semestre: 9,75\n",
        "- Situación de aprobación: Verdadera (aprobado)"
      ],
      "metadata": {
        "id": "O-FxDumfWu0C"
      }
    },
    {
      "cell_type": "code",
      "source": [
        "Nombre = \"Penélope Camacho\"\n",
        "Edad = 11\n",
        "Promedio = 9.75\n",
        "Situación_escolar = True"
      ],
      "metadata": {
        "id": "FabQ7jQf_8Xt"
      },
      "execution_count": null,
      "outputs": []
    },
    {
      "cell_type": "code",
      "source": [
        "print(Nombre,Edad,Promedio,Situación_escolar)"
      ],
      "metadata": {
        "id": "IZLQnZUj_8bd",
        "colab": {
          "base_uri": "https://localhost:8080/"
        },
        "outputId": "204cb56c-b9d5-4246-a595-316d67e55d5e"
      },
      "execution_count": null,
      "outputs": [
        {
          "output_type": "stream",
          "name": "stdout",
          "text": [
            "Penélope Camacho 11 9.75 True\n"
          ]
        }
      ]
    },
    {
      "cell_type": "markdown",
      "source": [
        "## Variables numéricas\n",
        "\n",
        "Entre los tipos de datos numéricos vamos a enfocarnos en los tipos `entero` y `float`."
      ],
      "metadata": {
        "id": "KFq_8Sxf-OG0"
      }
    },
    {
      "cell_type": "markdown",
      "source": [
        "Tenemos una tabla de información sobre los diversos cargos, cantidad de personas empleadas y el salario correspondiente:\n",
        "\n",
        "|Cargo | Cantidad | Salario|\n",
        "|---|---|---|\n",
        "|Vigilante | 5 | 300 |\n",
        "|Docente | 16| 500|\n",
        "|Coordinador| 2 |600|\n",
        "\n",
        "Necesitamos trabajar con estos datos para obtener:\n",
        "\n",
        "- La cantidad total de empleados;\n",
        "- La diferencia entre el salario más bajo y más alto; y\n",
        "- El promedio ponderado de los salarios de los empleados de la escuela."
      ],
      "metadata": {
        "id": "8_HYUbkVYdQY"
      }
    },
    {
      "cell_type": "code",
      "source": [
        "#Cantidad total de empleados\n",
        "Total_empleados = 5 + 16 + 2\n",
        "print(Total_empleados)"
      ],
      "metadata": {
        "id": "F_X-wxdm_5Ys",
        "colab": {
          "base_uri": "https://localhost:8080/"
        },
        "outputId": "1487622d-4cac-4d79-d0ea-8192b6cd35fa"
      },
      "execution_count": null,
      "outputs": [
        {
          "output_type": "stream",
          "name": "stdout",
          "text": [
            "23\n"
          ]
        }
      ]
    },
    {
      "cell_type": "code",
      "source": [
        "#Diferencia entre el salario más bajo y más alto\n",
        "Diferencia_Salarios = 600 - 300\n",
        "print(Diferencia_Salarios)"
      ],
      "metadata": {
        "id": "gKmBbhII_5b9",
        "colab": {
          "base_uri": "https://localhost:8080/"
        },
        "outputId": "b292ada3-3307-4275-ba31-fbbe145dda82"
      },
      "execution_count": null,
      "outputs": [
        {
          "output_type": "stream",
          "name": "stdout",
          "text": [
            "300\n"
          ]
        }
      ]
    },
    {
      "cell_type": "code",
      "source": [
        "#El promedio ponderado de los salarios de los empleados de la escuela.\n",
        "salario_vigilantes = 300 * 5\n",
        "salario_docentes = 500 * 16\n",
        "salarios_coordinadores = 600 * 2\n",
        "promedio_ponderado = (salario_vigilantes + salario_docentes + salarios_coordinadores) / (Total_empleados)\n",
        "print(promedio_ponderado)"
      ],
      "metadata": {
        "id": "fIugsxNy_53j",
        "colab": {
          "base_uri": "https://localhost:8080/"
        },
        "outputId": "46f1145d-e7da-41b4-9e76-4c96320e84be"
      },
      "execution_count": null,
      "outputs": [
        {
          "output_type": "stream",
          "name": "stdout",
          "text": [
            "465.2173913043478\n"
          ]
        }
      ]
    },
    {
      "cell_type": "markdown",
      "source": [
        "## Strings"
      ],
      "metadata": {
        "id": "yQy7b0ZWoD-P"
      }
    },
    {
      "cell_type": "markdown",
      "source": [
        "Strings hace referencia a un conjunto de caracteres formando un texto.\n",
        "\n",
        "Podemos crear Strings cuando atribuimos un dato a una variable entre comillas sencillas (`'`) o comillas dobles (`\"`)."
      ],
      "metadata": {
        "id": "vlo2-DXusv3s"
      }
    },
    {
      "cell_type": "code",
      "source": [
        "print('Esto es una \"cadena\"')"
      ],
      "metadata": {
        "id": "ityEWqvh_2wK",
        "colab": {
          "base_uri": "https://localhost:8080/"
        },
        "outputId": "69226dcb-fe72-46cc-bea1-5ac91c197f83"
      },
      "execution_count": null,
      "outputs": [
        {
          "output_type": "stream",
          "name": "stdout",
          "text": [
            "Esto es una \"cadena\"\n"
          ]
        }
      ]
    },
    {
      "cell_type": "markdown",
      "source": [
        "Las variables textuales son objetos que poseen métodos que nos ayudan a formatear strings. Los métodos los podemos ejecutar al definir un objeto de acuerdo con la siguiente estructura:\n",
        "\n",
        "```\n",
        "objeto.metodo()\n",
        "```\n",
        "\n",
        "Existen métodos que no necesitan los `()`, siempre es una buena práctica verificar la documentación para cada caso."
      ],
      "metadata": {
        "id": "2e9UD_CCxqz_"
      }
    },
    {
      "cell_type": "markdown",
      "source": [
        "---\n",
        "**Situación:**\n",
        "\n",
        "Recibimos una variable con el nombre de una profesora de la escuela para añadirla a los registros. Sin embargo, necesitamos darle un tratamiento a este texto antes de insertarlo al sistema."
      ],
      "metadata": {
        "id": "p6aPmMGP4tf9"
      }
    },
    {
      "cell_type": "code",
      "source": [
        "texto = '  Micaela de los Sanyos '"
      ],
      "metadata": {
        "id": "icDWtYTjBO0n"
      },
      "execution_count": null,
      "outputs": []
    },
    {
      "cell_type": "markdown",
      "source": [
        "El objetivo final es que el nombre aparezca de la siguiente forma:\n",
        "\n",
        "```\n",
        "'MICAELA DE LOS SANTOS'\n",
        "```"
      ],
      "metadata": {
        "id": "Dg2ZXSZOGzjC"
      }
    },
    {
      "cell_type": "markdown",
      "source": [
        "### [`str.upper()` ](https://docs.python.org/3/library/stdtypes.html#str.upper)\n",
        "Convierte una string a mayúsculas."
      ],
      "metadata": {
        "id": "iVTAD8q702eN"
      }
    },
    {
      "cell_type": "code",
      "source": [
        "texto.upper()"
      ],
      "metadata": {
        "id": "wMVshJrY_ZXh",
        "colab": {
          "base_uri": "https://localhost:8080/",
          "height": 36
        },
        "outputId": "4d9e5938-b934-41f8-eea1-39e593ca1cd2"
      },
      "execution_count": null,
      "outputs": [
        {
          "output_type": "execute_result",
          "data": {
            "text/plain": [
              "'  MICAELA DE LOS SANYOS '"
            ],
            "application/vnd.google.colaboratory.intrinsic+json": {
              "type": "string"
            }
          },
          "metadata": {},
          "execution_count": 29
        }
      ]
    },
    {
      "cell_type": "markdown",
      "source": [
        "### [`str.lower()`](https://docs.python.org/3/library/stdtypes.html#str.lower)\n",
        "Convierte una string a minúsculas."
      ],
      "metadata": {
        "id": "hbDSBtMV1TpG"
      }
    },
    {
      "cell_type": "code",
      "source": [
        "texto.lower()"
      ],
      "metadata": {
        "id": "px3yEeNH_YK4",
        "colab": {
          "base_uri": "https://localhost:8080/",
          "height": 36
        },
        "outputId": "010cf16d-4995-4cce-d70a-16dc7942cecd"
      },
      "execution_count": null,
      "outputs": [
        {
          "output_type": "execute_result",
          "data": {
            "text/plain": [
              "'  micaela de los sanyos '"
            ],
            "application/vnd.google.colaboratory.intrinsic+json": {
              "type": "string"
            }
          },
          "metadata": {},
          "execution_count": 30
        }
      ]
    },
    {
      "cell_type": "markdown",
      "source": [
        "### [`str.strip()`](https://docs.python.org/3/library/stdtypes.html#str.strip)\n",
        "Elimina los espacios en blanco al inicio y al final de una string."
      ],
      "metadata": {
        "id": "kz47eWM11gii"
      }
    },
    {
      "cell_type": "code",
      "source": [
        "texto.strip()"
      ],
      "metadata": {
        "id": "76dLgNa4_XAe",
        "colab": {
          "base_uri": "https://localhost:8080/",
          "height": 36
        },
        "outputId": "8b783bf2-557c-4ac3-8612-05c43fad856b"
      },
      "execution_count": null,
      "outputs": [
        {
          "output_type": "execute_result",
          "data": {
            "text/plain": [
              "'Micaela de los Sanyos'"
            ],
            "application/vnd.google.colaboratory.intrinsic+json": {
              "type": "string"
            }
          },
          "metadata": {},
          "execution_count": 31
        }
      ]
    },
    {
      "cell_type": "markdown",
      "source": [
        "### [`str.replace(antiguo, nuevo)`](https://docs.python.org/3/library/stdtypes.html#str.replace)\n",
        "\n",
        "Sustituye todas las ocurrencias del texto \"antiguo\" en la string por el  \"nuevo\"."
      ],
      "metadata": {
        "id": "m6notiyS1SCV"
      }
    },
    {
      "cell_type": "code",
      "source": [
        "texto.replace('y','t')"
      ],
      "metadata": {
        "id": "PNXAixtE_V6R",
        "colab": {
          "base_uri": "https://localhost:8080/",
          "height": 36
        },
        "outputId": "6d21a06b-bdde-4b19-ae29-d0e69051e1c7"
      },
      "execution_count": null,
      "outputs": [
        {
          "output_type": "execute_result",
          "data": {
            "text/plain": [
              "'  Micaela de los Santos '"
            ],
            "application/vnd.google.colaboratory.intrinsic+json": {
              "type": "string"
            }
          },
          "metadata": {},
          "execution_count": 32
        }
      ]
    },
    {
      "cell_type": "markdown",
      "source": [
        "### Observaciones\n",
        "\n",
        "1. Los métodos devuelven una **tranformación**, no son ejecutados directamente sobre la variable donde está almacenado el texto.\n",
        "\n",
        "2. Adicionalmente, podemos acumular la ejecución de los métodos."
      ],
      "metadata": {
        "id": "zukvEjhG2Rcn"
      }
    },
    {
      "cell_type": "code",
      "source": [
        "texto = texto.upper()\n",
        "texto = texto.strip()\n",
        "texto = texto.replace('Y','T')\n",
        "print(texto)"
      ],
      "metadata": {
        "id": "JjkBRklr_T5n",
        "colab": {
          "base_uri": "https://localhost:8080/"
        },
        "outputId": "b3c2f930-9dca-47f9-d7f3-2b215b7dc173"
      },
      "execution_count": null,
      "outputs": [
        {
          "output_type": "stream",
          "name": "stdout",
          "text": [
            "MICAELA DE LOS SANTOS\n"
          ]
        }
      ]
    },
    {
      "cell_type": "markdown",
      "source": [
        "Para que la transformación se pueda ejecutar debemos atribuir la salida de las transformaciones a las variables"
      ],
      "metadata": {
        "id": "1KbwfVut2h6I"
      }
    },
    {
      "cell_type": "code",
      "source": [
        "texto_dos = '  Micaela de los Sanyos '\n",
        "nuevo_texto = texto_dos.strip().upper().replace('Y','T')\n",
        "print(nuevo_texto)"
      ],
      "metadata": {
        "id": "ocPP-Jaj_SJI",
        "colab": {
          "base_uri": "https://localhost:8080/"
        },
        "outputId": "59ff7b36-3494-4d8f-dd9c-c940f59c84e4"
      },
      "execution_count": null,
      "outputs": [
        {
          "output_type": "stream",
          "name": "stdout",
          "text": [
            "MICAELA DE LOS SANTOS\n"
          ]
        }
      ]
    },
    {
      "cell_type": "markdown",
      "source": [
        "## Capturando datos\n",
        "\n",
        "En algunas aplicaciones necesitamos capturar los valores del usuario de nuestro proyecto. En python, logramos capturar los datos del usuario a través del comando [`input()`](https://docs.python.org/3/library/functions.html#input).\n",
        "\n",
        "Para ejecutar la captura debemos atribuir el resultado de esta función a una variable."
      ],
      "metadata": {
        "id": "0h9Fh5G9kHCa"
      }
    },
    {
      "cell_type": "code",
      "source": [
        "pregunta_uno = input(\"¿Cuál es tu nombre?\")\n",
        "print(pregunta_uno)"
      ],
      "metadata": {
        "id": "zbH_9i3q_PdY",
        "colab": {
          "base_uri": "https://localhost:8080/"
        },
        "outputId": "05e3c518-065a-4537-eac3-7cd43adef15e"
      },
      "execution_count": null,
      "outputs": [
        {
          "output_type": "stream",
          "name": "stdout",
          "text": [
            "¿Cuál es tu nombre?Andres\n",
            "Andres\n"
          ]
        }
      ]
    },
    {
      "cell_type": "code",
      "source": [
        "pregunta_dos = input(\"¿Cuanto es 2 + 2: \")\n",
        "print(pregunta_dos)"
      ],
      "metadata": {
        "id": "JZy1Q9Tl_PgL",
        "colab": {
          "base_uri": "https://localhost:8080/"
        },
        "outputId": "53534ab0-25ac-481f-f9b6-9d9fa5dbe031"
      },
      "execution_count": null,
      "outputs": [
        {
          "output_type": "stream",
          "name": "stdout",
          "text": [
            "¿Cuanto es 2 + 2: 4\n",
            "4\n"
          ]
        }
      ]
    },
    {
      "cell_type": "markdown",
      "source": [
        "La salida de este comando siempre será una *string*. Esto quiere decir que aunque capturemos un valor de variable numérica, este será de tipo string.\n",
        "\n",
        "Entonces, será necesario **convertir el resultado cuando no se desea utilizar el valor como tipo string**."
      ],
      "metadata": {
        "id": "7z7hcLCk_aCY"
      }
    },
    {
      "cell_type": "markdown",
      "source": [
        "Existen funciones para la conversión de valores:\n",
        "\n",
        "- Enteros: [`int(dato_para_conversion)`](https://docs.python.org/3/library/functions.html#int)\n",
        "- Coma flotante: [`float(dato_para_conversion)`](https://docs.python.org/3/library/functions.html#float)\n",
        "- String: [`str(dato_para_conversion)`](https://docs.python.org/3/library/functions.html#func-str)\n",
        "- Booleano: [`bool(dato_para_conversion)`](https://docs.python.org/3/library/functions.html#bool)"
      ],
      "metadata": {
        "id": "TOlegATj1Jfp"
      }
    },
    {
      "cell_type": "code",
      "source": [
        "pregunta_tres = int(input(\"¿Cuanto es 4 + 4: \"))\n",
        "print(pregunta_tres)"
      ],
      "metadata": {
        "id": "M2ueeH6l_NMe",
        "colab": {
          "base_uri": "https://localhost:8080/"
        },
        "outputId": "f32dd441-d25e-4766-bf3a-c4249df5ced7"
      },
      "execution_count": null,
      "outputs": [
        {
          "output_type": "stream",
          "name": "stdout",
          "text": [
            "¿Cuanto es 4 + 4: 8\n",
            "8\n"
          ]
        }
      ]
    },
    {
      "cell_type": "code",
      "source": [
        "pregunta_cuatro = float(input(\"¿Cuanto es 4.2 + 4.2:\"))\n",
        "print(pregunta_cuatro)"
      ],
      "metadata": {
        "id": "xfWwuViK_NUn",
        "colab": {
          "base_uri": "https://localhost:8080/"
        },
        "outputId": "8de5a78a-d55c-49a1-ddaa-6d5d1279cf7a"
      },
      "execution_count": null,
      "outputs": [
        {
          "output_type": "stream",
          "name": "stdout",
          "text": [
            "¿Cuanto es 4.2 + 4.2:8.4\n",
            "8.4\n"
          ]
        }
      ]
    },
    {
      "cell_type": "code",
      "source": [
        "pregunta_cinco = bool(input(\"El 4 es mayor a 2: \"))\n",
        "print(pregunta_cinco)"
      ],
      "metadata": {
        "id": "uFCHDyew_NZm",
        "colab": {
          "base_uri": "https://localhost:8080/"
        },
        "outputId": "3e01d6e1-1a8c-4761-8b76-5b8c7482b172"
      },
      "execution_count": null,
      "outputs": [
        {
          "output_type": "stream",
          "name": "stdout",
          "text": [
            "El 4 es mayor a 2: 1\n",
            "True\n"
          ]
        }
      ]
    },
    {
      "cell_type": "markdown",
      "source": [
        "Trataremos de representar mejor ahora el resultado de la transformación que obtuvimos. Nosotros podemos formatear y presentar nuestro resultado mezclando strings con valores no textuales.\n",
        "\n",
        "Para ello utilizamos la estructura de formatación `f` con strings."
      ],
      "metadata": {
        "id": "yNI2-XTbB3aS"
      }
    },
    {
      "cell_type": "code",
      "source": [
        "print(f\"El resultado de la suma 4 + 4 es: {pregunta_tres} y la suma de 4.2 + 4.2 es {pregunta_cuatro}\")"
      ],
      "metadata": {
        "id": "keJjA5N9_K5i",
        "colab": {
          "base_uri": "https://localhost:8080/"
        },
        "outputId": "0d8a2b8a-c249-41b2-dd99-45058ea94a95"
      },
      "execution_count": null,
      "outputs": [
        {
          "output_type": "stream",
          "name": "stdout",
          "text": [
            "El resultado de la suma 4 + 4 es: 8 y la suma de 4.2 + 4.2 es 8.4\n"
          ]
        }
      ]
    },
    {
      "cell_type": "code",
      "source": [
        "#Recopilación y muestra de datos\n",
        "\n",
        "#1 - Crea un programa que solicite al usuario que escriba su nombre y luego imprima \"Hola, [nombre].\"\n",
        "usuario = input(\"Hola, ¿Cuál es tu nombre? \")\n",
        "print(f\"Hola, {usuario}\")\n",
        "\n",
        "#2 - Crea un programa que solicite al usuario que escriba su nombre y edad, y luego imprima \"Hola, [nombre], tienes [edad] años.\"\n",
        "solicitud_nombre = input(\"¿Cuál es tu nombre? \")\n",
        "solicitud_edad = int(input(\"¿Cuál es tu edad? \"))\n",
        "print(f\"Hola, {solicitud_nombre}, tu edad es de {solicitud_edad} años.\")\n",
        "\n",
        "#3 - Crea un programa que solicite al usuario que escriba su nombre, edad y altura en metros, y\n",
        "#luego imprima \"Hola, [nombre], tienes [edad] años y mides [altura] metros.\"\n",
        "solicitud_nombre_dos = input(\"¿Cuál es tu nombre? \")\n",
        "solicitud_edad_dos = int(input(\"¿Cuál es tu edad? \"))\n",
        "solicitud_altura = float(input(\"¿Cuál es tu altura en metros? \"))\n",
        "print(f\"Hola, {solicitud_nombre_dos}, tienes {solicitud_edad_dos} años y mides {solicitud_altura} metros.\")"
      ],
      "metadata": {
        "colab": {
          "base_uri": "https://localhost:8080/"
        },
        "id": "p7Tspkqy_84G",
        "outputId": "1d694f99-2d22-472d-b3b6-39ef7890fb16"
      },
      "execution_count": null,
      "outputs": [
        {
          "output_type": "stream",
          "name": "stdout",
          "text": [
            "Hola, ¿Cuál es tu nombre? Andres\n",
            "Hola, Andres\n",
            "¿Cuál es tu nombre? Andres\n",
            "¿Cuál es tu edad? 29\n",
            "Hola, Andres, tu edad es de 29 años.\n",
            "¿Cuál es tu nombre? Andres\n",
            "¿Cuál es tu edad? 29\n",
            "¿Cuál es tu altura en metros? 1.70\n",
            "Hola, Andres, tienes 29 años y mides 1.7 metros.\n"
          ]
        }
      ]
    },
    {
      "cell_type": "code",
      "source": [],
      "metadata": {
        "id": "Jj0nRY-eNOD5"
      },
      "execution_count": null,
      "outputs": []
    },
    {
      "cell_type": "code",
      "source": [
        "#Calculadora con operadores\n",
        "#Crea un programa que solicite dos valores numéricos al usuario y luego imprima la suma de ambos valores.\n",
        "valor_uno = int(input(\"Ingresa el primer valor: \"))\n",
        "valor_dos = int(input(\"Ingresa el segundo valor: \"))\n",
        "print(f\"la suma de los valores es {valor_uno + valor_dos}\")\n",
        "\n",
        "#5 - Crea un programa que solicite tres valores numéricos al usuario y luego imprima la suma de los tres valores.\n",
        "valor_tres = int(input(\"Ingresa el primer valor: \"))\n",
        "valor_cuatro = int(input(\"Ingresa el segundo valor: \"))\n",
        "valor_cinco = int(input(\"Ingresa el tercer valor: \"))\n",
        "print(f\"La suma de los tres valores es {valor_tres + valor_cuatro + valor_cinco}\")\n",
        "\n",
        "#6 - Crea un programa que solicite dos valores numéricos al usuario y luego imprima la resta del primero menos el segundo valor.\n",
        "valor_seis = int(input(\"Ingresa el primer valor: \"))\n",
        "valor_siete = int(input(\"Ingresa el segundo valor: \"))\n",
        "print(f\"La resta de los valores es {valor_seis - valor_siete}\")\n",
        "\n",
        "#7 - Crea un programa que solicite dos valores numéricos al usuario y luego imprima la multiplicación de los dos valores.\n",
        "valor_ocho = int(input(\"Ingresa el primer valor: \"))\n",
        "valor_nueve = int(input(\"Ingresa el segundo valor: \"))\n",
        "print(f\"La multiplicación de los valores es {valor_ocho * valor_nueve}\")\n",
        "\n",
        "#8 - Crea un programa que solicite dos valores numéricos, un numerador y un denominador, y realice la división entre los dos valores.\n",
        "#Asegúrate de que el valor del denominador no sea igual a 0.\n",
        "valor_diez = int(input(\"Ingresa el numerador: \"))\n",
        "valor_once = int(input(\"Ingresa el denominador: \"))\n",
        "print(f\"La división de los valores es {valor_diez / valor_once}\")\n",
        "\n",
        "#9 - Crea un programa que solicite dos valores numéricos, un operador y una potencia, y realice la exponenciación entre estos dos valores.\n",
        "valor_doce = int(input(\"Ingresa el primer valor: \"))\n",
        "valor_trece = int(input(\"Ingresa el segundo valor: \"))\n",
        "print(f\"La exponenciación de los valores es {valor_doce ** valor_trece}\")\n",
        "\n",
        "#10 - Crea un programa que solicite dos valores numéricos, un numerador y un denominador, y realice la división entera entre los dos valores.\n",
        "#Asegúrate de que el valor del denominador no sea igual a 0.\n",
        "valor_catorce = int(input(\"Ingresa el numerador: \"))\n",
        "valor_quince = int(input(\"Ingresa el denominador: \"))\n",
        "print(f\"La división entera de los valores es {valor_catorce // valor_quince}\")\n",
        "\n",
        "#11 - Crea un programa que solicite dos valores numéricos, un numerador y un denominador, y devuelva el resto de la división entre los dos valores.\n",
        "#Asegúrate de que el valor del denominador no sea igual a 0.\n",
        "valor_dieciseis = int(input(\"Ingresa el numerador: \"))\n",
        "valor_diecisiete = int(input(\"Ingresa el denominador: \"))\n",
        "print(f\"El resto de la división de los valores es {valor_dieciseis % valor_diecisiete}\")\n",
        "\n",
        "#12 - Crea un código que solicite las 3 notas de un estudiante e imprima el promedio de las notas.\n",
        "calificacion_uno = int(input(\"Ingresa la primera nota: \"))\n",
        "calificacion_dos = int(input(\"Ingresa la segunda nota: \"))\n",
        "calificacion_tres = int(input(\"Ingresa la tercera nota: \"))\n",
        "print(f\"El promedio de las notas es {(calificacion_uno + calificacion_dos + calificacion_tres) / 3}\")\n",
        "\n",
        "#13 - Crea un código que calcule e imprima el promedio ponderado de los números 5, 12, 20 y 15 con pesos respectivamente iguales a 1, 2, 3 y 4.\n",
        "print(f\"El promedio ponderado de los números es {(5 * 1 + 12 * 2 + 20 * 3 + 15 * 4) / (1 + 2 + 3 + 4)}\")"
      ],
      "metadata": {
        "id": "czt16GbmBmg7",
        "outputId": "850e1d1d-66e1-467b-a271-41501716a5fa",
        "colab": {
          "base_uri": "https://localhost:8080/"
        }
      },
      "execution_count": null,
      "outputs": [
        {
          "output_type": "stream",
          "name": "stdout",
          "text": [
            "Ingresa el primer valor: 4\n",
            "Ingresa el segundo valor: 6\n",
            "la suma de los valores es 10\n",
            "Ingresa el primer valor: 4\n",
            "Ingresa el segundo valor: 6\n",
            "Ingresa el tercer valor: 4\n",
            "La suma de los tres valores es 14\n",
            "Ingresa el primer valor: 4\n",
            "Ingresa el segundo valor: 5\n",
            "La resta de los valores es -1\n",
            "Ingresa el primer valor: 4\n",
            "Ingresa el segundo valor: 4\n",
            "La multiplicación de los valores es 16\n",
            "Ingresa el numerador: 4\n",
            "Ingresa el denominador: 5\n",
            "La división de los valores es 0.8\n",
            "Ingresa el primer valor: 4\n",
            "Ingresa el segundo valor: 5\n",
            "La exponenciación de los valores es 1024\n",
            "Ingresa el numerador: 4\n",
            "Ingresa el denominador: 9\n",
            "La división entera de los valores es 0\n",
            "Ingresa el numerador: 4\n",
            "Ingresa el denominador: 4\n",
            "El resto de la división de los valores es 0\n",
            "Ingresa la primera nota: 8\n",
            "Ingresa la segunda nota: 9\n",
            "Ingresa la tercera nota: 10\n",
            "El promedio de las notas es 9.0\n",
            "El promedio ponderado de los números es 14.9\n"
          ]
        }
      ]
    },
    {
      "cell_type": "code",
      "source": [
        "#Editando textos\n",
        "#14 - Crea una variable llamada \"frase\" y asígnale una cadena de texto de tu elección. Luego, imprime la frase en pantalla.\n",
        "frase = \"Hola, mundo!\"\n",
        "print(frase)\n",
        "\n",
        "#15 - Crea un código que solicite una frase y luego imprima la frase en pantalla.\n",
        "frase_dos = input(\"Ingresa una frase: \")\n",
        "print(frase_dos)\n",
        "\n",
        "#16 - Crea un código que solicite una frase al usuario y luego imprima la misma frase ingresada pero en mayúsculas.\n",
        "frase_tres = input(\"Ingresa una frase: \")\n",
        "print(frase_tres.upper())\n",
        "\n",
        "#17 - Crea un código que solicite una frase al usuario y luego imprima la misma frase ingresada pero en minúsculas.\n",
        "frase_cuatro = input(\"Ingresa una frase: \")\n",
        "print(frase_cuatro.lower())\n",
        "\n",
        "#18 - Crea una variable llamada \"frase\" y asígnale una cadena de texto de tu elección. Luego, imprime la frase sin espacios en blanco al principio y al final.\n",
        "frase_cinco = \" Hola, mundo! \"\n",
        "print(frase_cinco.strip())\n",
        "\n",
        "#19 - Crea un código que solicite una frase al usuario y luego imprima la misma frase sin espacios en blanco al principio y al final.\n",
        "frase_seis = input(\"Ingresa una frase: \")\n",
        "print(frase_seis.strip())\n",
        "\n",
        "#20 - Crea un código que solicite una frase al usuario y luego imprima la misma frase sin espacios en blanco al principio y al final, además de convertirla a minúsculas.\n",
        "frase_siete = input(\"Ingresa una frase: \")\n",
        "print(frase_siete.strip().lower())\n",
        "\n",
        "#21 - Crea un código que solicite una frase al usuario y luego imprima la misma frase con todas las vocales \"e\" reemplazadas por la letra \"f\".\n",
        "frase_ocho = input(\"Ingresa una frase: \")\n",
        "print(frase_ocho.replace(\"e\",\"f\"))\n",
        "\n",
        "#22 - Crea un código que solicite una frase al usuario y luego imprima la misma frase con todas las vocales \"a\" reemplazadas por el carácter \"@\".\n",
        "frase_nueve = input(\"Ingresa una frase: \")\n",
        "print(frase_nueve.replace(\"a\",\"@\"))\n",
        "\n",
        "#23 - Crea un código que solicite una frase al usuario y luego imprima la misma frase con todas las consonantes \"s\" reemplazadas por el carácter \"$\".\n",
        "frase_diez = input(\"Ingresa una frase: \")\n",
        "print(frase_diez.replace(\"s\",\"$\"))\n",
        "\n",
        "\n"
      ],
      "metadata": {
        "id": "KbQ3-iw1SRSP",
        "outputId": "d175e5bf-853e-453f-f36e-d2a3e6e310fb",
        "colab": {
          "base_uri": "https://localhost:8080/"
        }
      },
      "execution_count": null,
      "outputs": [
        {
          "output_type": "stream",
          "name": "stdout",
          "text": [
            "Hola, mundo!\n",
            "Ingresa una frase: Universo\n",
            "Universo\n",
            "Ingresa una frase: Planetas\n",
            "PLANETAS\n",
            "Ingresa una frase: Hola mundo\n",
            "hola mundo\n",
            "Hola, mundo!\n",
            "Ingresa una frase: Hola mundo\n",
            "Hola mundo\n",
            "Ingresa una frase: HOLA MUNDO\n",
            "hola mundo\n",
            "Ingresa una frase: holamundo\n",
            "holamundo\n",
            "Ingresa una frase: holamundo\n",
            "hol@mundo\n",
            "Ingresa una frase: S\n",
            "S\n"
          ]
        }
      ]
    },
    {
      "cell_type": "markdown",
      "source": [
        "# Estructuras condicionales"
      ],
      "metadata": {
        "id": "NwRaiHHHhhyl"
      }
    },
    {
      "cell_type": "code",
      "source": [
        "if 2 < 8:\n",
        "  print(\"Verdadero\")"
      ],
      "metadata": {
        "id": "pa4gLncu-mvU",
        "colab": {
          "base_uri": "https://localhost:8080/"
        },
        "outputId": "15def220-869c-4e02-c8b2-66309a98b776"
      },
      "execution_count": null,
      "outputs": [
        {
          "output_type": "stream",
          "name": "stdout",
          "text": [
            "Verdadero\n"
          ]
        }
      ]
    },
    {
      "cell_type": "code",
      "source": [
        "if 4 > 200:\n",
        "  print(\"Verdadero\")\n",
        "else:\n",
        "  print (\"Falso\")\n",
        "print(\"Prueba\")"
      ],
      "metadata": {
        "id": "_cWRmDiE-m4p",
        "colab": {
          "base_uri": "https://localhost:8080/"
        },
        "outputId": "1554f66c-882e-456d-b016-36e6379a9316"
      },
      "execution_count": null,
      "outputs": [
        {
          "output_type": "stream",
          "name": "stdout",
          "text": [
            "Falso\n",
            "Prueba\n"
          ]
        }
      ]
    },
    {
      "cell_type": "markdown",
      "source": [
        "## `IF` y `ELSE`\n",
        "\n",
        "Los comandos `if` y `else` son dos estructuras condicionales. El comando `if` ejecutará el bloque de comandos en caso de que la condición citada sea  **verdadera**. El comando `else` ejecutará el bloque de comandos en el caso de que la condicional de `if` sea **falsa**."
      ],
      "metadata": {
        "id": "qXZqg9aYEhAh"
      }
    },
    {
      "cell_type": "markdown",
      "source": [
        "El comando `if` es una palabra clave en Python que significa \"si\". Este se emplea para conformar la estructura condicional, que te permite verificar si una determinada condición es verdadera o falsa e, inmediatamente después, ejecute un bloque de código específico dependiendo del resultado de la verificación. La sintaxis para usar el comando `if` es:\n",
        "\n",
        "\n",
        "\n",
        "```\n",
        "if condicion:\n",
        "    # Realiza algo\n",
        "```\n",
        "\n"
      ],
      "metadata": {
        "id": "EIhlqHXd2Gil"
      }
    },
    {
      "cell_type": "code",
      "source": [
        "if 4 > 2:\n",
        "  print(\"Verdadero\")"
      ],
      "metadata": {
        "id": "S2S6XAFz-czM",
        "colab": {
          "base_uri": "https://localhost:8080/"
        },
        "outputId": "20fa3a0e-6adf-4805-c497-c64259cb6d10"
      },
      "execution_count": null,
      "outputs": [
        {
          "output_type": "stream",
          "name": "stdout",
          "text": [
            "Verdadero\n"
          ]
        }
      ]
    },
    {
      "cell_type": "code",
      "source": [
        "if 4 < 6:\n",
        "  print(\"Verdadero\")"
      ],
      "metadata": {
        "id": "YHkwMMyY-c1r",
        "colab": {
          "base_uri": "https://localhost:8080/"
        },
        "outputId": "a6ad35a0-14ef-4c32-c005-cf30ac2649ba"
      },
      "execution_count": null,
      "outputs": [
        {
          "output_type": "stream",
          "name": "stdout",
          "text": [
            "Verdadero\n"
          ]
        }
      ]
    },
    {
      "cell_type": "markdown",
      "source": [
        "Ya el comando `else` en Python se usa en junción con la palabra clave `if` para formar una estructura condicional. la sintaxis para usar el `else` es:\n",
        "\n",
        "```\n",
        "if condicion:\n",
        "  # codigo en caso de que sea verdad\n",
        "else:\n",
        "  # codigo en caso de que sea falso\n",
        "```\n",
        "\n",
        "el comando `else` se ejecuta cuando la condición verificada por el `if` es evaluada como `False`."
      ],
      "metadata": {
        "id": "27RW2v_sIKct"
      }
    },
    {
      "cell_type": "code",
      "source": [
        "if 8 > 9:\n",
        "  print(\"Verdadero\")\n",
        "else:\n",
        "  print(\"Falso\")"
      ],
      "metadata": {
        "id": "ZTfNJd_f-aOq"
      },
      "execution_count": null,
      "outputs": []
    },
    {
      "cell_type": "code",
      "source": [
        "if 394 < 396:\n",
        "  print(\"True\")\n",
        "else:\n",
        "  print(\"False\")"
      ],
      "metadata": {
        "id": "LPOb5MkV-btq",
        "colab": {
          "base_uri": "https://localhost:8080/"
        },
        "outputId": "6fef7564-70fb-4a7a-e18a-600e77d88a91"
      },
      "execution_count": null,
      "outputs": [
        {
          "output_type": "stream",
          "name": "stdout",
          "text": [
            "True\n"
          ]
        }
      ]
    },
    {
      "cell_type": "markdown",
      "source": [
        "---\n",
        "**Situación:**\n",
        "\n",
        "Recibiremos el promedio de la nota de los estudiantes y necesitamos de un algoritmo que ejecute el análisis y determine si el estudiante fue **Aprobado** o **Reprobado**, mostrando un mensaje del resultado. Para ser aprobado, el promedio necesita ser igual o superior a 7.0."
      ],
      "metadata": {
        "id": "BqORg85XX-Nl"
      }
    },
    {
      "cell_type": "code",
      "source": [
        "Calificación = float(input(\"¿Cuál es tu promedio?: \"))\n",
        "if Calificación >= 7.0:\n",
        "  print(\"Aprobado\")\n",
        "else:\n",
        "  print(\"Reprobado\")"
      ],
      "metadata": {
        "id": "UukCN4AQ-YYW",
        "colab": {
          "base_uri": "https://localhost:8080/"
        },
        "outputId": "aee169c2-cd48-4b99-f8bd-157d7366f1d8"
      },
      "execution_count": null,
      "outputs": [
        {
          "output_type": "stream",
          "name": "stdout",
          "text": [
            "¿Cuál es tu promedio?: 6\n",
            "Reprobado\n"
          ]
        }
      ]
    },
    {
      "cell_type": "markdown",
      "source": [
        "Ahora, nuestra institución educativa estableció que las personas que tengan el promedio entre 5.0 y 7.0 pueden participar del curso de **Recuperación** durante las vacaciones para lograr aprobar.\n",
        "\n",
        "Entonces podemos apoyarnos en un conjunto de `if`s para poder estructurar esta nueva condición."
      ],
      "metadata": {
        "id": "bD9O17HB6LUo"
      }
    },
    {
      "cell_type": "code",
      "source": [
        "calificación = float(input(\"¿Cuál es tu promedio?: \"))\n",
        "if calificación >= 7.0:\n",
        "  print(\"Aprobado\")\n",
        "if 7.0 > calificación >= 5.0:\n",
        "  print(\"Recuperación\")"
      ],
      "metadata": {
        "id": "X0o8FW1H-YkA",
        "colab": {
          "base_uri": "https://localhost:8080/"
        },
        "outputId": "ea3a2270-d5e5-4f16-abff-3ed9dcddd1d2"
      },
      "execution_count": null,
      "outputs": [
        {
          "output_type": "stream",
          "name": "stdout",
          "text": [
            "¿Cuál es tu promedio?: 7.0\n",
            "Aprobado\n"
          ]
        }
      ]
    },
    {
      "cell_type": "markdown",
      "source": [
        "Observa que en casos con 3 situaciones como este necesitamos definir bien nuestras condiciones. Pues, si realizamos una condición con `else` al final, este irá a considerar solamente la condición `if` inmediatamente anterior para generar la salida en caso de que el resultado de su operación lógica sea **falso** dando como resultado, dos o más ejecuciones.\n",
        "\n",
        "Por ejemplo:"
      ],
      "metadata": {
        "id": "D5e2mByjvycO"
      }
    },
    {
      "cell_type": "code",
      "source": [
        "calificación = float(input(\"¿Cuál es tu promedio?: \"))\n",
        "if calificación >= 7.0:\n",
        "  print(\"Aprobado\")\n",
        "if 7.0 > calificación >= 5.0:\n",
        "  print(\"Recuperación\")\n",
        "if calificación < 5.0:\n",
        "  print(\"Reprobado\")"
      ],
      "metadata": {
        "colab": {
          "base_uri": "https://localhost:8080/"
        },
        "outputId": "ef2a701d-82a1-424b-a88b-66b8acaed7e6",
        "id": "v2BZ171V1feI"
      },
      "execution_count": null,
      "outputs": [
        {
          "output_type": "stream",
          "name": "stdout",
          "text": [
            "¿Cuál es tu promedio?: 4\n",
            "Reprobado\n"
          ]
        }
      ]
    },
    {
      "cell_type": "markdown",
      "source": [
        "## `ELIF`\n",
        "\n",
        "El comando `elif` es una palabra clave en Python que significa \"si no, si\" y lo podemos considerar una *contracción* entre `else` e `if`. Se utiliza en conjunto con la palabra clave `if` para formar una estructura condicional en cadena."
      ],
      "metadata": {
        "id": "04T5g-7h4zWx"
      }
    },
    {
      "cell_type": "markdown",
      "source": [
        "la sintaxis para utilizar el comando `elif` es:\n",
        "\n",
        "```\n",
        "if condicion1:\n",
        "    # Realiza algo\n",
        "elif condicion2:\n",
        "    # Realiza otra cosa\n",
        "elif condicion3:\n",
        "    # Realiza otra cosa\n",
        "else:\n",
        "    # Realiza algo diferente\n",
        "```\n",
        "\n",
        "El comando `elif` permite que puedas verificar varias condiciones en cadena, economizando espacio en tu código. Si la primera condición se evalúa como `False`, el interpretador de Python evaluará la próxima condición con el `elif`. Ello continuará hasta que una condición sea evaluada como `True` o hasta que el `else` sea alcazado. Si ninguna de las condiciones es evaluada como `True`, la ejecución del código del comando `else` será iniciada."
      ],
      "metadata": {
        "id": "rNBHr5mm1Lm6"
      }
    },
    {
      "cell_type": "markdown",
      "source": [
        "Vamos a emplear el mismo caso anterior:"
      ],
      "metadata": {
        "id": "MVoykFbB4bd4"
      }
    },
    {
      "cell_type": "code",
      "source": [
        "calificación = float(input(\"¿Cuál es tu promedio?: \"))\n",
        "if calificación >= 7.0:\n",
        "  print(\"Aprobado\")\n",
        "elif 7.0 > calificación >= 5.0:\n",
        "  print(\"Recuperación\")\n",
        "else:\n",
        "  print(\"Reprobado\")"
      ],
      "metadata": {
        "colab": {
          "base_uri": "https://localhost:8080/"
        },
        "outputId": "57969cb9-610d-4bc2-be89-1dafab14ee9a",
        "id": "74rgOayu3Tfo"
      },
      "execution_count": null,
      "outputs": [
        {
          "output_type": "stream",
          "name": "stdout",
          "text": [
            "¿Cuál es tu promedio?: 6\n",
            "Recuperación\n"
          ]
        }
      ]
    },
    {
      "cell_type": "markdown",
      "source": [
        "## Operadores\n",
        "\n",
        "Durante la construcción de comandos a veces necesitamos de una elaboración mayor de la expresión condicional, necesitando que algunos operadores lógicos se encuentren integrados."
      ],
      "metadata": {
        "id": "Tf1wSOem6iwZ"
      }
    },
    {
      "cell_type": "markdown",
      "source": [
        "### `AND`, `OR`, `NOT`\n",
        "\n",
        "Los operadores lógicos `and`, `or` y `not` son usados para combinar expresiones lógicas en Python. Ellos son usados frecuentemente en conjunto con el comando `if` para crear estructuras condicionales más complejas.\n"
      ],
      "metadata": {
        "id": "GFIZnRWXGPWO"
      }
    },
    {
      "cell_type": "markdown",
      "source": [
        "- `AND` es usado para verificar si dos condiciones son verdaderas. La expresión lógica¹ `x and y` se evalúa como `True` tan solo si **ambas condiciones `x` y `y` son verdaderas**, y como `False` en caso contrario.\n",
        "\n",
        "- `OR` es usado para verificar si al menos una de las condiciones es verdadera. La expresión lógica `x or y` se evalúa como `True` **si al menos una de las condiciones `x` o `y` es verdadera**, y como `False` si ambas condiciones son falsas.\n",
        "\n",
        "- `NOT` es usado para **negar una condición**. La expresión lógica `not x` es evaluada como `True` si la condición x es falsa, y como `False` si la condición x es verdadera.\n",
        "\n",
        "¹ Una expresión lógica es una declaración que puede ser evaluada como verdadera o falsa. Ella se compone por operandos lógicos² y por operadores lógicos³, que son usados ​​para combinar varias expresiones lógicas en una única expresión.\n",
        "\n",
        "² Los operandos lógicos son los elementos que son comparados o evaluados en una expresión lógica. Ellos son generalmente valores verdaderos o falsos, pero también pueden ser expresiones lógicas más complejas. En Python, los operandos lógicos son los valores `True` y `False`.\n",
        "\n",
        "³ Los operadores lógicos son ls símbolos o palabras clave que son usados ​​para combinar varias expresiones lógicas en una única expresión. En Python, los operadores lógicos son `and`, `or` y `not`, bien como las palabras clave `if`, `elif` e `else`."
      ],
      "metadata": {
        "id": "Z_dgAoHXJbzB"
      }
    },
    {
      "cell_type": "markdown",
      "source": [
        "> Operadores lógicos más comunes\n",
        "\n",
        "|a|b|AND|OR|NOT|\n",
        "|-|-|-|-|-|\n",
        "|0|0|0|0|1\n",
        "|0|1|0|1|-\n",
        "|1|0|0|1|-\n",
        "|1|1|1|1|0\n"
      ],
      "metadata": {
        "id": "2E5aUogf-49u"
      }
    },
    {
      "cell_type": "code",
      "source": [
        "V = True\n",
        "F = False\n",
        "print(f\"V and V = {V and V}\")\n",
        "print(f\"V and F = {V and F}\")\n",
        "print(f\"F and V = {F and V}\")\n",
        "print(f\"F and F = {F and F}\")"
      ],
      "metadata": {
        "id": "DFKmpvmS-Pa6",
        "colab": {
          "base_uri": "https://localhost:8080/"
        },
        "outputId": "413eaa8f-b185-4564-d7c8-e8a6f43e33e4"
      },
      "execution_count": null,
      "outputs": [
        {
          "output_type": "stream",
          "name": "stdout",
          "text": [
            "V and V = True\n",
            "V and F = False\n",
            "F and V = False\n",
            "F and F = False\n"
          ]
        }
      ]
    },
    {
      "cell_type": "code",
      "source": [
        "if V and V:\n",
        "  print(\"La condición es verdadera\")\n",
        "else:\n",
        "  print(\"La condición es falsa\")"
      ],
      "metadata": {
        "id": "W5BIrpOD-PeI",
        "colab": {
          "base_uri": "https://localhost:8080/"
        },
        "outputId": "d8a33ace-bfcc-42d7-8ea5-8f7b76521a64"
      },
      "execution_count": null,
      "outputs": [
        {
          "output_type": "stream",
          "name": "stdout",
          "text": [
            "La condición es verdadera\n"
          ]
        }
      ]
    },
    {
      "cell_type": "code",
      "source": [
        "if V and F:\n",
        "  print(\"La condición es verdadera\")\n",
        "else:\n",
        "  print(\"La condición es falsa\")"
      ],
      "metadata": {
        "id": "fpDhYxq4-PiM",
        "colab": {
          "base_uri": "https://localhost:8080/"
        },
        "outputId": "0a71c246-7173-47ba-88e8-894dd91ac43b"
      },
      "execution_count": null,
      "outputs": [
        {
          "output_type": "stream",
          "name": "stdout",
          "text": [
            "La condición es falsa\n"
          ]
        }
      ]
    },
    {
      "cell_type": "code",
      "source": [
        "if F and V:\n",
        "  print(\"La condición es verdadera\")\n",
        "else:\n",
        "  print(\"La condición es falsa\")"
      ],
      "metadata": {
        "colab": {
          "base_uri": "https://localhost:8080/"
        },
        "id": "mz9N3wgMw7Q7",
        "outputId": "bc353ee4-bed1-4abd-ab98-e8c8cd5604ab"
      },
      "execution_count": null,
      "outputs": [
        {
          "output_type": "stream",
          "name": "stdout",
          "text": [
            "La condición es falsa\n"
          ]
        }
      ]
    },
    {
      "cell_type": "code",
      "source": [
        "if F and F:\n",
        "  print(\"La condición es verdadera\")\n",
        "else:\n",
        "  print(\"La condición es falsa\")"
      ],
      "metadata": {
        "colab": {
          "base_uri": "https://localhost:8080/"
        },
        "id": "j5077LoQxAXS",
        "outputId": "d7d6ddd3-8776-4db7-bf00-ad39574280c8"
      },
      "execution_count": null,
      "outputs": [
        {
          "output_type": "stream",
          "name": "stdout",
          "text": [
            "La condición es falsa\n"
          ]
        }
      ]
    },
    {
      "cell_type": "code",
      "source": [
        "#OR\n",
        "if V or V:\n",
        "  print(\"La condición es verdadera\")\n",
        "else:\n",
        "  print(\"La condición es falsa\")"
      ],
      "metadata": {
        "colab": {
          "base_uri": "https://localhost:8080/"
        },
        "id": "werlcsSoxI1F",
        "outputId": "1d1a111b-6bc4-4799-ef21-4d80dbafe818"
      },
      "execution_count": null,
      "outputs": [
        {
          "output_type": "stream",
          "name": "stdout",
          "text": [
            "La condición es verdadera\n"
          ]
        }
      ]
    },
    {
      "cell_type": "code",
      "source": [
        "if V or F:\n",
        "  print(\"La condición es verdadera\")\n",
        "else:\n",
        "  print(\"La condición es falsa\")"
      ],
      "metadata": {
        "colab": {
          "base_uri": "https://localhost:8080/"
        },
        "id": "aTPzRVp1xRKn",
        "outputId": "34f742f2-cb69-4dc2-a6f3-c3994f0b1b38"
      },
      "execution_count": null,
      "outputs": [
        {
          "output_type": "stream",
          "name": "stdout",
          "text": [
            "La condición es verdadera\n"
          ]
        }
      ]
    },
    {
      "cell_type": "code",
      "source": [
        "if F or V:\n",
        "  print(\"La condición es verdadera\")\n",
        "else:\n",
        "  print(\"La condición es falsa\")"
      ],
      "metadata": {
        "colab": {
          "base_uri": "https://localhost:8080/"
        },
        "id": "x1wiZdIzxYmW",
        "outputId": "03a738d2-c37b-47b8-b8ff-85eb4a71b164"
      },
      "execution_count": null,
      "outputs": [
        {
          "output_type": "stream",
          "name": "stdout",
          "text": [
            "La condición es verdadera\n"
          ]
        }
      ]
    },
    {
      "cell_type": "code",
      "source": [
        "if F or F:\n",
        "  print(\"La condición es verdadera\")\n",
        "else:\n",
        "  print(\"La condición es falsa\")"
      ],
      "metadata": {
        "colab": {
          "base_uri": "https://localhost:8080/"
        },
        "id": "m9F99A4Hxdlg",
        "outputId": "4aaac446-8618-4d42-c15d-e31a32fe1c04"
      },
      "execution_count": null,
      "outputs": [
        {
          "output_type": "stream",
          "name": "stdout",
          "text": [
            "La condición es falsa\n"
          ]
        }
      ]
    },
    {
      "cell_type": "code",
      "source": [
        "#NOT\n",
        "if not V:\n",
        "  print(\"La condición es verdadera\")\n",
        "else:\n",
        "  print(\"La condición es falsa\")"
      ],
      "metadata": {
        "colab": {
          "base_uri": "https://localhost:8080/"
        },
        "id": "x4lZ5FxoxhID",
        "outputId": "19dd5bd8-94b2-4af4-c00f-961e2e6d73d5"
      },
      "execution_count": null,
      "outputs": [
        {
          "output_type": "stream",
          "name": "stdout",
          "text": [
            "La condición es falsa\n"
          ]
        }
      ]
    },
    {
      "cell_type": "code",
      "source": [
        "if not F:\n",
        "  print(\"La condición es verdadera\")\n",
        "else:\n",
        "  print(\"La condición es falsa\")"
      ],
      "metadata": {
        "colab": {
          "base_uri": "https://localhost:8080/"
        },
        "id": "e7o6iYO8xljX",
        "outputId": "033a533a-29ba-4b41-f67d-49cc858fed14"
      },
      "execution_count": null,
      "outputs": [
        {
          "output_type": "stream",
          "name": "stdout",
          "text": [
            "La condición es verdadera\n"
          ]
        }
      ]
    },
    {
      "cell_type": "markdown",
      "source": [
        "### `IN`\n",
        "\n",
        "Es usado para verificar si un elemento está presente en una lista, tupla u otra colección de conjunto. La expresión `x in y` se evalúa como `True` si el elemento `x` esta presente na variávelen la variable de conjunto `y`, y como `False` en caso contrario."
      ],
      "metadata": {
        "id": "w7EXG1dhWtja"
      }
    },
    {
      "cell_type": "markdown",
      "source": [
        "Podemos verificarlo con variables de texto.\n",
        "\n",
        "---\n",
        "\n",
        "**Situación:**\n",
        "\n",
        "En la escuela nos entregaron una lista con nombres de estudiantes que fueron aprobados según el promedio del semestre, pero es necesario verificar si algunos nombres están en esa lista para confirmar que los datos estén correctos.\n",
        "\n",
        "La lista distribuida puede ser observada a continuación:\n",
        "\n",
        "```\n",
        "lista = 'Juan Pérez, María González, Pedro Rodríguez, Ana López, Carlos Martínez,\n",
        "    Laura Sánchez, José García, Elena Fernández, Luis Morales, Carmen Torres,\n",
        "    David Ruiz, Isabel Ramírez, Javier Díaz, Sara Herrera, Miguel Castro,\n",
        "    Patricia Ortega, Francisco Vargas, Marta Jiménez, Manuel Medina, Rosa Molina,\n",
        "    Alejandro Silva, Silvia Ruiz, Andrés Torres, Natalia Soto, Diego Guerrero,\n",
        "    Paula Ríos, Ricardo Navarro, Alicia Cordero, Carlos Vidal, Lorena Gómez'\n",
        "```\n",
        "\n",
        "Los nombres que necesitas verificar son los siguientes:\n",
        "\n",
        "```\n",
        "nombre_1 = 'Miguel Castro'\n",
        "nombre_2 = 'Marcelo Noguera'\n",
        "```"
      ],
      "metadata": {
        "id": "enJNp6JenQbq"
      }
    },
    {
      "cell_type": "code",
      "source": [
        "lista = 'Juan Pérez, María González, Pedro Rodríguez, Ana López, Carlos Martínez, Laura Sánchez, José García, Elena Fernández, Luis Morales, Carmen Torres, David Ruiz, Isabel Ramírez, Javier Díaz, Sara Herrera, Miguel Castro, Patricia Ortega, Francisco Vargas, Marta Jiménez, Manuel Medina, Rosa Molina, Alejandro Silva, Silvia Ruiz, Andrés Torres, Natalia Soto, Diego Guerrero, Paula Ríos, Ricardo Navarro, Alicia Cordero, Carlos Vidal, Lorena Gómez'"
      ],
      "metadata": {
        "id": "gPPN9BCT-Mki"
      },
      "execution_count": null,
      "outputs": []
    },
    {
      "cell_type": "code",
      "source": [
        "nombre_1 = 'Miguel Castro'\n",
        "nombre_2 = 'Marcelo Noguera'"
      ],
      "metadata": {
        "id": "GINbG3Fa-Mnb"
      },
      "execution_count": null,
      "outputs": []
    },
    {
      "cell_type": "code",
      "source": [
        "if nombre_1 in lista:\n",
        "  print(f\"{nombre_1} Aprobó\")\n",
        "else:\n",
        "  print(f\"{nombre_1} Reprobó\")\n",
        "\n",
        "if nombre_2 in lista:\n",
        "  print(f\"{nombre_2} Aprobó\")\n",
        "else:\n",
        "  print(f\"{nombre_2} Reprobó\")"
      ],
      "metadata": {
        "id": "hk-RhNRT-Mp7",
        "colab": {
          "base_uri": "https://localhost:8080/"
        },
        "outputId": "e6e16567-79b4-4933-816c-f9e23a159417"
      },
      "execution_count": null,
      "outputs": [
        {
          "output_type": "stream",
          "name": "stdout",
          "text": [
            "Miguel Castro Aprobó\n",
            "Marcelo Noguera Reprobó\n"
          ]
        }
      ]
    },
    {
      "cell_type": "code",
      "source": [],
      "metadata": {
        "id": "evGRC1sP2vgD"
      },
      "execution_count": null,
      "outputs": []
    },
    {
      "cell_type": "code",
      "source": [
        "#Desafios\n",
        "\"\"\"1 - Escribe un programa que pida a la persona usuaria que proporcione dos números y muestre el número más grande.\"\"\"\n",
        "numero_1 = int(input(\"Ingresa el primer número: \"))\n",
        "numero_2 = int(input(\"Ingresa el segundo número: \"))\n",
        "if numero_1 > numero_2:\n",
        "  print(f\"El número más grande es {numero_1}\")\n",
        "else:\n",
        "  print(f\"El número más grande es {numero_2}\")\n",
        "\n",
        "#2 - Escribe un programa que solicite el porcentaje de crecimiento de producción de una empresa e informe si hubo un crecimiento (porcentaje positivo) o una disminución (porcentaje negativo).\n",
        "porcentaje = float(input(\"Ingresa el porcentaje de crecimiento de producción: \"))\n",
        "if porcentaje > 0:\n",
        "  print(\"Hubo un crecimiento\")\n",
        "else:\n",
        "  print(\"Hubo una disminución\")\n",
        "\n",
        "#3 - Escribe un programa que determine si una letra proporcionada por la persona usuaria es una vocal o una consonante.\n",
        "vocal = 'A, E, I, O, U'\n",
        "letra = input(\"Ingresa una letra: \")\n",
        "letra = letra.upper()\n",
        "if letra in vocal:\n",
        "  print(f\"La letra {letra} es una vocal\")\n",
        "else:\n",
        "  print(f\"La letra {letra} es una consonante\")\n",
        "\n",
        "#4 - Escribe un programa que lea valores promedio de precios de un modelo de automóvil durante 3 años consecutivos y muestre el valor más alto y más bajo entre esos tres años.\n",
        "precio_1 = float(input(\"Ingresa el primer valor: \"))\n",
        "precio_2 = float(input(\"Ingresa el segundo valor: \"))\n",
        "precio_3 = float(input(\"Ingresa el tercer valor: \"))\n",
        "if precio_1 > precio_2 and precio_1 > precio_3:\n",
        "  print(f\"El valor más alto es {precio_1}\")\n",
        "elif precio_2  > precio_1 and precio_2 > precio_3:\n",
        "  print(f\"El valor más alto es {precio_2}\")\n",
        "else:\n",
        "  print(f\"El valor más alto es {precio_3}\")"
      ],
      "metadata": {
        "colab": {
          "base_uri": "https://localhost:8080/"
        },
        "id": "PuO8PdX10rbC",
        "outputId": "876a1e15-95e5-4cb8-fe9e-8e75736a6f8e"
      },
      "execution_count": null,
      "outputs": [
        {
          "output_type": "stream",
          "name": "stdout",
          "text": [
            "Ingresa el primer número: 10\n",
            "Ingresa el segundo número: 20\n",
            "El número más grande es 20\n",
            "Ingresa el porcentaje de crecimiento de producción: 10\n",
            "Hubo un crecimiento\n",
            "Ingresa una letra: j\n",
            "La letra J es una consonante\n",
            "Ingresa el primer valor: 100000\n",
            "Ingresa el segundo valor: 129476\n",
            "Ingresa el tercer valor: 416289\n",
            "El valor más alto es 416289.0\n"
          ]
        }
      ]
    },
    {
      "cell_type": "code",
      "source": [
        "#5 - Escribe un programa que pregunte sobre el precio de tres productos e indique cuál es el producto más barato para comprar.\n",
        "Jabon_de_baño = float(input(\"Ingresa el valor del Jabon de baño: \"))\n",
        "Jabon_liquido = float(input(\"Ingresa el valor del Jabon de liquido: \"))\n",
        "Jabon_polvo = float(input(\"Ingresa el valor del Jabon de polvo: \"))\n",
        "if Jabon_de_baño < Jabon_liquido and Jabon_de_baño < Jabon_polvo:\n",
        "  print(f\"El producto más barato es el Jabon de baño, con un precio de {Jabon_de_baño}\")\n",
        "elif Jabon_liquido < Jabon_de_baño and Jabon_liquido < Jabon_polvo:\n",
        "  print(f\"El producto más barato es el Jabon de liquido, con un precio de {Jabon_liquido}\")\n",
        "else:\n",
        "  print(f\"El producto más barato es el Jabon de polvo, con un precio de {Jabon_polvo}\")"
      ],
      "metadata": {
        "colab": {
          "base_uri": "https://localhost:8080/"
        },
        "id": "3zbWvwm05RTs",
        "outputId": "8e6d4ccc-70be-4155-fd65-79090422ff61"
      },
      "execution_count": null,
      "outputs": [
        {
          "output_type": "stream",
          "name": "stdout",
          "text": [
            "Ingresa el valor del Jabon de baño: 20\n",
            "Ingresa el valor del Jabon de liquido: 12\n",
            "Ingresa el valor del Jabon de polvo: 14\n",
            "El producto más barato es el Jabon de liquido, con un precio de 12.0\n"
          ]
        }
      ]
    },
    {
      "cell_type": "code",
      "source": [
        "#6 - Escribe un programa que lea tres números y los muestre en orden descendente.\n",
        "numero_1 = int(input(\"Ingresa el primer número: \"))\n",
        "numero_2 = int(input(\"Ingresa el segundo número: \"))\n",
        "numero_3 = int(input(\"Ingresa el tercer número: \"))\n",
        "if numero_1 >= numero_2 and numero_1 >= numero_3:\n",
        "  if numero_2 >= numero_3:\n",
        "    print(f\"{numero_1}, {numero_2}, {numero_3}\")\n",
        "  else:\n",
        "    print(f\"{numero_1}, {numero_3}, {numero_2}\")\n",
        "elif numero_2 >= numero_1 and numero_2 >= numero_3:\n",
        "  if numero_1 >= numero_3:\n",
        "    print(f\"{numero_2}, {numero_1}, {numero_3}\")\n",
        "  else:\n",
        "    print(f\"{numero_2}, {numero_3}, {numero_1}\")\n",
        "elif numero_3 >= numero_1 and numero_3 >= numero_2:\n",
        "  if numero_1 >= numero_2:\n",
        "    print(f\"{numero_3}, {numero_1}, {numero_2}\")\n",
        "  else:\n",
        "    print(f\"{numero_3}, {numero_2}, {numero_1}\")"
      ],
      "metadata": {
        "colab": {
          "base_uri": "https://localhost:8080/"
        },
        "id": "yaIe59Fu6TiC",
        "outputId": "12ea5c73-764f-4cff-b244-9e55e356e5f2"
      },
      "execution_count": null,
      "outputs": [
        {
          "output_type": "stream",
          "name": "stdout",
          "text": [
            "Ingresa el primer número: 10\n",
            "Ingresa el segundo número: 2\n",
            "Ingresa el tercer número: 2\n",
            "10, 2, 2\n"
          ]
        }
      ]
    },
    {
      "cell_type": "code",
      "source": [
        "#7 -Escribe un programa que pregunte en qué turno estudia la persona usuaria (\"mañana\", \"tarde\" o \"noche\")\n",
        "#y muestre el mensaje \"¡Buenos Días!\", \"¡Buenas Tardes!\", \"¡Buenas Noches!\" o \"Valor Inválido!\", según el caso.\n",
        "turno = input(\"Ingresa en que turno estudias (mañana, tarde o noche): \").lower()\n",
        "if turno == \"mañana\":\n",
        "  print(\"¡Buenos Días!\")\n",
        "elif turno == \"tarde\":\n",
        "  print(\"¡Buenas Tardes!\")\n",
        "elif turno == \"noche\":\n",
        "  print(\"¡Buenas Noches!\")\n",
        "else:\n",
        "  print(\"Valor Inválido!\")"
      ],
      "metadata": {
        "colab": {
          "base_uri": "https://localhost:8080/"
        },
        "id": "Fgt-aHmp-ge4",
        "outputId": "2dcb7e6b-cd84-4aac-db2c-3c281b8f8438"
      },
      "execution_count": null,
      "outputs": [
        {
          "output_type": "stream",
          "name": "stdout",
          "text": [
            "Ingresa en que turno estudias (mañana, tarde o noche): hola\n",
            "Valor Inválido!\n"
          ]
        }
      ]
    },
    {
      "cell_type": "code",
      "source": [
        "#8 - Escribe un programa que solicite un número entero a la persona usuaria y determine si es par o impar. Pista: Puedes usar el operador módulo (%).\n",
        "numero = int(input(\"Ingresa un número entero: \"))\n",
        "if numero % 2 == 0:\n",
        "  print(f\"El número {numero} es par\")\n",
        "else:\n",
        "  print(f\"El número {numero} es impar\")"
      ],
      "metadata": {
        "colab": {
          "base_uri": "https://localhost:8080/"
        },
        "id": "9gIXnRZn_D1O",
        "outputId": "be089a6d-60f6-44d7-da65-ee952a070176"
      },
      "execution_count": null,
      "outputs": [
        {
          "output_type": "stream",
          "name": "stdout",
          "text": [
            "Ingresa un número entero: 12466\n",
            "El número 12466 es par\n"
          ]
        }
      ]
    },
    {
      "cell_type": "code",
      "source": [
        "#9 - Escribe un programa que pida un número a la persona usuaria y le informe si es entero o decimal.\n",
        "numero = float(input(\"Ingresa un número: \"))\n",
        "if numero % 1 == 0:\n",
        "  print(f\"El número {numero} es entero\")\n",
        "else:\n",
        "  print(f\"El número {numero} es decimal\")\n",
        "\n",
        "print(2.1 % 1)"
      ],
      "metadata": {
        "colab": {
          "base_uri": "https://localhost:8080/"
        },
        "id": "JJJ7KGLb_ff0",
        "outputId": "33a16b0b-5ac1-44a7-d29e-cb4191e3b3b2"
      },
      "execution_count": null,
      "outputs": [
        {
          "output_type": "stream",
          "name": "stdout",
          "text": [
            "Ingresa un número: 2.4\n",
            "El número 2.4 es decimal\n",
            "0.10000000000000009\n"
          ]
        }
      ]
    },
    {
      "cell_type": "code",
      "source": [
        "#Momento de los proyectos\n",
        "\n",
        "# 10 - Un programa debe ser escrito para leer dos números y luego preguntar a la persona usuaria qué operación desea realizar.\n",
        "#El resultado de la operación debe incluir información sobre el número, si es par o impar, positivo o negativo, y entero o decimal.\n",
        "calculos = 'suma, resta, multiplicación, división'\n",
        "operación = input(\"¿Qué operación deseas realizar? (suma, resta, multiplicación, división): \").lower()\n",
        "if operación in calculos:\n",
        "  numero_1 = float(input(\"Ingresa el primer número: \"))\n",
        "  numero_2 = float(input(\"Ingresa el segundo número: \"))\n",
        "  if operación == 'suma':\n",
        "    resultado = numero_1 + numero_2\n",
        "    print(f\"El resultado de la suma es {resultado}\")\n",
        "  elif operación == 'resta':\n",
        "    resultado = numero_1 - numero_2\n",
        "    print(f\"El resultado de la resta es {resultado}\")\n",
        "  elif operación == 'multiplicación':\n",
        "    resultado = numero_1 * numero_2\n",
        "    print(f\"El resultado de la multiplicación es {resultado}\")\n",
        "  elif operación == 'división':\n",
        "    resultado = numero_1 / numero_2\n",
        "    print(f\"El resultado de la división es {resultado}\")\n",
        "  if resultado % 2 == 0:\n",
        "    print(f\"El número {resultado} es par\")\n",
        "  else:\n",
        "    print(f\"El número {resultado} es impar\")\n",
        "  if resultado >= 0:\n",
        "    print(f\"El número {resultado} es positivo\")\n",
        "  else:\n",
        "    print(f\"El número {resultado} es negativo\")\n",
        "  if resultado % 1 == 0:\n",
        "    print(f\"El número {resultado} es entero\")\n",
        "  else:\n",
        "    print(f\"El número {resultado} es decimal\")\n",
        "else:\n",
        "  print(\"Por favor coloca una operación valida, reinicie el programa, y vuelve a intentarlo\")"
      ],
      "metadata": {
        "colab": {
          "base_uri": "https://localhost:8080/"
        },
        "id": "EjKgdqPeBJv0",
        "outputId": "5cb53348-064d-4301-d0be-5db3c69c13e2"
      },
      "execution_count": null,
      "outputs": [
        {
          "output_type": "stream",
          "name": "stdout",
          "text": [
            "¿Qué operación deseas realizar? (suma, resta, multiplicación, división): división\n",
            "Ingresa el primer número: 4\n",
            "Ingresa el segundo número: 9\n",
            "El resultado de la división es 0.4444444444444444\n",
            "El número 0.4444444444444444 es impar\n",
            "El número 0.4444444444444444 es positivo\n",
            "El número 0.4444444444444444 es decimal\n"
          ]
        }
      ]
    },
    {
      "cell_type": "code",
      "source": [
        "\"\"\"Escribe un programa que pida a la persona usuaria tres números que representan los lados de un triángulo. El programa debe informar si los valores\n",
        "pueden utilizarse para formar un triángulo y, en caso afirmativo, si es equilátero, isósceles o escaleno. Ten en cuenta algunas sugerencias:\n",
        "\n",
        "Tres lados forman un triángulo cuando la suma de cualesquiera dos lados es mayor que el tercero;\n",
        "Triángulo Equilátero: tres lados iguales;\n",
        "Triángulo Isósceles: dos lados iguales;\n",
        "Triángulo Escaleno: tres lados diferentes. \"\"\"\n",
        "lado_1 = float(input(\"Ingresa el primer lado: \"))\n",
        "lado_2 = float(input(\"Ingresa el segundo lado: \"))\n",
        "lado_3 = float(input(\"Ingresa el tercer lado: \"))\n",
        "if lado_1 > 0 and lado_2 > 0 and lado_3 > 0:\n",
        "  if lado_1 == lado_2 and lado_1 == lado_3:\n",
        "    print(\"Es un triángulo equilátero\")\n",
        "  elif lado_1 == lado_2 or lado_1 == lado_3 or lado_2 == lado_3:\n",
        "    print(\"Es un triángulo isósceles\")\n",
        "  elif lado_1 != lado_2 and lado_1 != lado_3 and lado_2 != lado_3:\n",
        "    print(\"Es un triángulo escaleno\")\n",
        "else:\n",
        "  print(\"No es un triángulo, ingrese valores que puedan formar un triangulo\")"
      ],
      "metadata": {
        "colab": {
          "base_uri": "https://localhost:8080/"
        },
        "id": "G6IaHtDuHQyZ",
        "outputId": "1cb05d60-5aa7-4116-959f-d072adcaa6a4"
      },
      "execution_count": null,
      "outputs": [
        {
          "output_type": "stream",
          "name": "stdout",
          "text": [
            "Ingresa el primer lado: 1\n",
            "Ingresa el segundo lado: 10\n",
            "Ingresa el tercer lado: 10\n",
            "Es un triángulo isósceles\n"
          ]
        }
      ]
    },
    {
      "cell_type": "code",
      "source": [
        "\"\"\"12 - Un establecimiento está vendiendo combustibles con descuentos variables. Para el etanol, si la cantidad comprada es de hasta 15 litros,\n",
        "el descuento será del 2% por litro. En caso contrario, será del 4% por litro. Para el diésel, si la cantidad comprada es de hasta 15 litros,\n",
        "el descuento será del 3% por litro. En caso contrario, será del 5% por litro. El precio por litro de diésel es de R$ 2,00 y el precio por litro de\n",
        "etanol es de R$ 1,70. Escribe un programa que lea la cantidad de litros vendidos y el tipo de combustible (E para etanol y D para diésel) y\n",
        "calcule el valor a pagar por el cliente. Ten en cuenta algunas sugerencias:\n",
        "El valor del descuento será el producto del precio por litro, la cantidad de litros y el valor del descuento.\n",
        "El valor a pagar por un cliente será el resultado de la multiplicación del precio por litro por la cantidad de litros menos el valor del descuento resultante del cálculo.\n",
        "\"\"\"\n",
        "litros = float(input(\"Ingresa la cantidad de litros: \"))\n",
        "combustible = input(\"Ingresa el tipo de combustible (E para etanol y D para diésel): \").upper()\n",
        "if combustible == 'E':\n",
        "  precio = 1.7\n",
        "  if litros <= 15:\n",
        "    descuento = 0.02\n",
        "  else:\n",
        "    descuento = 0.04\n",
        "elif combustible == 'D':\n",
        "  precio = 2\n",
        "  if litros <= 15:\n",
        "    descuento = 0.03\n",
        "  else:\n",
        "    descuento = 0.05\n",
        "valor_descuento = precio * litros * descuento\n",
        "valor_a_pagar = precio * litros - valor_descuento\n",
        "print(f\"El valor a pagar por el cliente es {valor_a_pagar}\")\n",
        "\n",
        "\n"
      ],
      "metadata": {
        "id": "md3zy4igI94X",
        "colab": {
          "base_uri": "https://localhost:8080/"
        },
        "outputId": "106a6bef-8241-42bc-e6a7-0a83d718553a"
      },
      "execution_count": null,
      "outputs": [
        {
          "output_type": "stream",
          "name": "stdout",
          "text": [
            "Ingresa la cantidad de litros: 15\n",
            "Ingresa el tipo de combustible (E para etanol y D para diésel): D\n",
            "El valor a pagar por el cliente es 29.1\n"
          ]
        }
      ]
    },
    {
      "cell_type": "code",
      "source": [
        "\"\"\"13 - En una empresa de venta de bienes raíces, debes crear un código que analice los datos de ventas anuales para ayudar a la dirección en la toma de decisiones.\n",
        "El código debe recopilar los datos de cantidad de ventas durante los años 2022 y 2023 y calcular la variación porcentual. A partir del valor de la variación, se deben\n",
        "proporcionar las siguientes sugerencias:\n",
        "\n",
        "Para una variación superior al 20%: bonificación para el equipo de ventas.\n",
        "Para una variación entre el 2% y el 20%: pequeña bonificación para el equipo de ventas.\n",
        "Para una variación entre el 2% y el -10%: planificación de políticas de incentivo a las ventas.\n",
        "Para bonificaciones inferiores al -10%: recorte de gastos.\n",
        "Si necesitas ayuda, las opciones de solución para las actividades estarán disponibles en la sección \"Opinión del instructor\". \"\"\"\n",
        "\n",
        "ventas_2022 = float(input(\"Ingresa la cantidad de ventas del año 2022: \"))\n",
        "ventas_2023 = float(input(\"Ingresa la cantidad de ventas del año 2023: \"))\n",
        "variación = (ventas_2023 - ventas_2022) / ventas_2022 * 100\n",
        "if variación > 20:\n",
        "  print(\"Bonificación para el equipo de ventas\")\n",
        "elif 2 <= variación <= 20:\n",
        "  print(\"Pequeña bonificación para el equipo de ventas\")\n",
        "elif -10 <= variación < 2:\n",
        "  print(\"Planificación de políticas de incentivo a las ventas\")\n",
        "elif variación < -10:\n",
        "  print(\"Recorte de gastos\")"
      ],
      "metadata": {
        "colab": {
          "base_uri": "https://localhost:8080/"
        },
        "id": "TNhIQpUWA8Xy",
        "outputId": "d002d7cf-19a4-4cf2-fe0f-6020400270fd"
      },
      "execution_count": null,
      "outputs": [
        {
          "output_type": "stream",
          "name": "stdout",
          "text": [
            "Ingresa la cantidad de ventas del año 2022: 200000\n",
            "Ingresa la cantidad de ventas del año 2023: 100000\n",
            "Recorte de gastos\n"
          ]
        }
      ]
    },
    {
      "cell_type": "markdown",
      "source": [
        "# Estructuras de repetición"
      ],
      "metadata": {
        "id": "aL1vJPewvwvz"
      }
    },
    {
      "cell_type": "markdown",
      "source": [
        "Cuando tenemos que ejecutar un mismo bloque de comandos durante varias ocasiones no es nada práctico hacerlo a mano.\n",
        "\n",
        "**Situación**: Nos fue solicitado obtener e imprimir el promedio de 2 notas de **3 estudantes**:"
      ],
      "metadata": {
        "id": "VcPfCa8d-84t"
      }
    },
    {
      "cell_type": "code",
      "source": [
        "nota_1_E1 = float(input(\"Ingresa la nota 1: \"))\n",
        "nota_2_E1 = float(input(\"Ingresa la nota 2: \"))\n",
        "promedio = (nota_1_E1 + nota_2_E1) / 2\n",
        "print(f\"La nota del primer estudiante es {promedio}\")\n",
        "\n",
        "nota_1_E2 = float(input(\"Ingresa la nota 1: \"))\n",
        "nota_2_E2 = float(input(\"Ingresa la nota 2: \"))\n",
        "promedio = (nota_1_E2 + nota_2_E2) / 2\n",
        "print(f\"La nota del segundo estudiante es {promedio}\")\n",
        "\n",
        "nota_1_E3 = float(input(\"Ingresa la nota 1: \"))\n",
        "nota_2_E3 = float(input(\"Ingresa la nota 2: \"))\n",
        "promedio = (nota_1_E3 + nota_2_E3) / 2\n",
        "print(f\"La nota del tercer estudiante es {promedio}\")\n"
      ],
      "metadata": {
        "id": "xcx21IGT9qA0",
        "colab": {
          "base_uri": "https://localhost:8080/"
        },
        "outputId": "3c11227d-27fa-4346-ecab-9ded2c4dbfe7"
      },
      "execution_count": null,
      "outputs": [
        {
          "output_type": "stream",
          "name": "stdout",
          "text": [
            "Ingresa la nota 1: 10\n",
            "Ingresa la nota 2: 9\n",
            "La nota del primer estudiante es 9.5\n",
            "Ingresa la nota 1: 8\n",
            "Ingresa la nota 2: 6\n",
            "La nota del segundo estudiante es 7.0\n",
            "Ingresa la nota 1: 9\n",
            "Ingresa la nota 2: 8\n",
            "La nota del tercer estudiante es 8.5\n"
          ]
        }
      ]
    },
    {
      "cell_type": "markdown",
      "source": [
        "Ahora imaginemos una situación en que no son tan solo 3 estudiantes, sino 100 estudiantes. No sería nada interesante repetir el mismo código 100 veces, sino **ejecutar el mismo código 100 veces**.\n",
        "\n",
        "¡Esta estructura la logramos construir con lazos de repetición!"
      ],
      "metadata": {
        "id": "9puIuvUbFSFX"
      }
    },
    {
      "cell_type": "markdown",
      "source": [
        "## `WHILE`"
      ],
      "metadata": {
        "id": "uLO9-aE4-wx8"
      }
    },
    {
      "cell_type": "markdown",
      "source": [
        "El lazo `while` es una estructura de control de repetición en Python que permite ejecutar un bloque de código repetidamente mientras que una determinada condición sea verdadera. Su estructura es:\n",
        "\n",
        "\n",
        "\n",
        "```\n",
        "while condicion:\n",
        "    # bloque de codigo\n",
        "```\n",
        "\n",
        "Vamos a construir un ejemplo con un contador de 1 hasta 10.\n"
      ],
      "metadata": {
        "id": "rXZxDMiqHxm9"
      }
    },
    {
      "cell_type": "code",
      "source": [
        "contador = 1\n",
        "while contador <= 10:\n",
        "  print(contador)\n",
        "  contador += 1"
      ],
      "metadata": {
        "id": "Hd0ZSWxD9wCD",
        "colab": {
          "base_uri": "https://localhost:8080/"
        },
        "outputId": "f1e9b8af-215a-474a-de3b-4847f3e51f1c"
      },
      "execution_count": null,
      "outputs": [
        {
          "output_type": "stream",
          "name": "stdout",
          "text": [
            "1\n",
            "2\n",
            "3\n",
            "4\n",
            "5\n",
            "6\n",
            "7\n",
            "8\n",
            "9\n",
            "10\n"
          ]
        }
      ]
    },
    {
      "cell_type": "markdown",
      "source": [
        "Ahora vamos a colectar las notas y promedios de cada alumno dentro del lazo `while`. Haremos un ejemplo con 3 promedios."
      ],
      "metadata": {
        "id": "W4KZPBJuIrut"
      }
    },
    {
      "cell_type": "code",
      "source": [
        "contador = 1\n",
        "while contador <= 3:\n",
        "  nota_1 = float(input(\"Ingresa la nota 1: \"))\n",
        "  nota_2 = float(input(\"Ingresa la nota 2: \"))\n",
        "  promedio = (nota_1 + nota_2) / 2\n",
        "  print(f\"La nota del estudiante {contador} es {promedio}\")\n",
        "  contador += 1"
      ],
      "metadata": {
        "id": "9T5eCLFx9wk6",
        "colab": {
          "base_uri": "https://localhost:8080/"
        },
        "outputId": "e29d12bd-b3f5-4bc6-a841-383503123ba9"
      },
      "execution_count": null,
      "outputs": [
        {
          "output_type": "stream",
          "name": "stdout",
          "text": [
            "Ingresa la nota 1: 10\n",
            "Ingresa la nota 2: 9\n",
            "La nota del estudiante 1 es 9.5\n",
            "Ingresa la nota 1: 8\n",
            "Ingresa la nota 2: 6\n",
            "La nota del estudiante 2 es 7.0\n",
            "Ingresa la nota 1: 9\n",
            "Ingresa la nota 2: 8\n",
            "La nota del estudiante 3 es 8.5\n"
          ]
        }
      ]
    },
    {
      "cell_type": "markdown",
      "source": [
        "## `FOR`"
      ],
      "metadata": {
        "id": "WgAIaENMMfCP"
      }
    },
    {
      "cell_type": "markdown",
      "source": [
        "El lazo `for` es un tipo de estructura de control de flujo en Python que permite iterar sobre un conjunto de elementos. Su estructura es:\n",
        "\n",
        "\n",
        "\n",
        "```\n",
        "for elemento in conjunto:\n",
        "    # codigo a ser ejecutado para cada elemento\n",
        "```\n",
        "\n",
        "El lazo `for` itera sobre cada elemento del conjunto especificado y ejecuta el bloque de código dentro del lazo para cada elemento. Cuando el lazo llega al final del conjunto, este se interrumpe y el programa continúa la ejecución después del lazo.\n",
        "\n"
      ],
      "metadata": {
        "id": "HxrSZoRAMh-x"
      }
    },
    {
      "cell_type": "markdown",
      "source": [
        "El conjunto lo podemos generar con la función incorporada [`range()`](https://docs.python.org/3/library/functions.html#func-range). Se trata de una función capaz de generar una secuencia de números enteros. La estructura de esta función es:\n",
        "\n",
        "```\n",
        "range(inicio, fin, paso)\n",
        "```\n",
        "\n",
        "Según la documentación, `range()` genera una secuencia de números enteros a partir del valor del parámetro `inicio` hasta el valor del parámetro `fin`, de acuerdo con el valor del parámetro `paso`. Si `inicio` no es especificado, el valor por defecto es `0`. Si `paso` no es especificado, el valor por defecto es `1`.\n",
        "\n",
        "\n"
      ],
      "metadata": {
        "id": "6VgjyoQtPHBM"
      }
    },
    {
      "cell_type": "markdown",
      "source": [
        "Vamos a recrear el mismo contador `while` con el lazo `for`."
      ],
      "metadata": {
        "id": "ryn0hfdlUwC8"
      }
    },
    {
      "cell_type": "code",
      "source": [
        "for contador in range(1,11):\n",
        "  print(contador)"
      ],
      "metadata": {
        "id": "KkL1wUIj9jL4",
        "colab": {
          "base_uri": "https://localhost:8080/"
        },
        "outputId": "e7179b8b-6eb5-4653-a392-61d043658301"
      },
      "execution_count": null,
      "outputs": [
        {
          "output_type": "stream",
          "name": "stdout",
          "text": [
            "1\n",
            "2\n",
            "3\n",
            "4\n",
            "5\n",
            "6\n",
            "7\n",
            "8\n",
            "9\n",
            "10\n"
          ]
        }
      ]
    },
    {
      "cell_type": "code",
      "source": [
        "for contador in range(1,4):\n",
        "  nota_1 = float(input(\"Ingresa la nota 1: \"))\n",
        "  nota_2 = float(input(\"Ingresa la nota 2: \"))\n",
        "  promedio = (nota_1 + nota_2) / 2\n",
        "  print(f\"La nota del estudiante {contador} es {promedio}\")"
      ],
      "metadata": {
        "id": "MteIjYZHVVA4",
        "outputId": "61d36a2f-6910-4167-aff6-13f05027e9b8",
        "colab": {
          "base_uri": "https://localhost:8080/"
        }
      },
      "execution_count": null,
      "outputs": [
        {
          "output_type": "stream",
          "name": "stdout",
          "text": [
            "Ingresa la nota 1: 10\n",
            "Ingresa la nota 2: 9\n",
            "La nota del estudiante 1 es 9.5\n",
            "Ingresa la nota 1: 8\n",
            "Ingresa la nota 2: 6\n",
            "La nota del estudiante 2 es 7.0\n",
            "Ingresa la nota 1: 9\n",
            "Ingresa la nota 2: 8\n",
            "La nota del estudiante 3 es 8.5\n"
          ]
        }
      ]
    },
    {
      "cell_type": "code",
      "source": [
        "#1 - Escribe un programa que solicite dos números enteros e imprima todos los números enteros entre ellos.\n",
        "numero_1 = int(input(\"Ingresa el primer número: \"))\n",
        "numero_2 = int(input(\"Ingresa el segundo número: \"))\n",
        "for contador in range(numero_1 + 1, numero_2):\n",
        "  print(contador)"
      ],
      "metadata": {
        "colab": {
          "base_uri": "https://localhost:8080/"
        },
        "id": "duo6M6KeN4nL",
        "outputId": "b37a13ae-6060-46be-8e5f-2f61f7fea660"
      },
      "execution_count": null,
      "outputs": [
        {
          "output_type": "stream",
          "name": "stdout",
          "text": [
            "Ingresa el primer número: 10\n",
            "Ingresa el segundo número: 20\n",
            "11\n",
            "12\n",
            "13\n",
            "14\n",
            "15\n",
            "16\n",
            "17\n",
            "18\n",
            "19\n"
          ]
        }
      ]
    },
    {
      "cell_type": "code",
      "source": [
        "#2 - Escribe un programa para calcular cuántos días tomará que la colonia de una bacteria A supere o iguale a la colonia de una bacteria B,\n",
        "#basado en tasas de crecimiento del 3% y 1.5%, respectivamente. Supón que la colonia A comienza con 4 elementos y B con 10.\n",
        "bacteria_A = 4\n",
        "bacteria_B = 10\n",
        "contador = 0\n",
        "while bacteria_A <= bacteria_B:\n",
        "  bacteria_A = bacteria_A + bacteria_A * 0.03\n",
        "  bacteria_B = bacteria_B + bacteria_B * 0.015\n",
        "  contador += 1\n",
        "print(f\"Tomará {contador} días para que la colonia A supere a la colonia B\")\n",
        "\n"
      ],
      "metadata": {
        "colab": {
          "base_uri": "https://localhost:8080/"
        },
        "id": "SogWv-uOOS3a",
        "outputId": "1621edf7-83f4-482c-dfdb-ec4b00d55acc"
      },
      "execution_count": null,
      "outputs": [
        {
          "output_type": "stream",
          "name": "stdout",
          "text": [
            "Tomará 63 días para que la colonia A supere a la colonia B\n"
          ]
        }
      ]
    },
    {
      "cell_type": "code",
      "source": [
        "#3 - Para procesar una cantidad de 15 datos de evaluaciones de usuarios de un servicio de la empresa, necesitamos verificar si las\n",
        "# calificaciones son válidas. Por lo tanto, escribe un programa que recibirá calificaciones del 0 al 5 y verificará si son valores válidos.\n",
        "# Si se ingresa una calificación superior a 5 o inferior a 0, se repetirá hasta que el usuario ingrese un valor válido.\n",
        "calificación_baja = 0\n",
        "calificación_alta = 5\n",
        "contador = 0\n",
        "while contador <= 14:\n",
        "  contador += 1\n",
        "  calificación = float(input(\"Ingresa una calificación del 0 al 5: \"))\n",
        "  while calificación < calificación_baja or calificación > calificación_alta:\n",
        "    print(\"Calificación inválida\")\n",
        "    calificación = float(input(\"Ingresa una calificación válida del 0 al 5: \"))\n",
        "  while calificación >= calificación_baja and calificación <= calificación_alta:\n",
        "    print(f\"La calificación {calificación} es valida, has ingresado {contador} datos\")\n",
        "    break"
      ],
      "metadata": {
        "colab": {
          "base_uri": "https://localhost:8080/"
        },
        "id": "lo7oCXcNZq5z",
        "outputId": "72949fe7-3dc9-4a5d-f8d7-f84519388da3"
      },
      "execution_count": null,
      "outputs": [
        {
          "output_type": "stream",
          "name": "stdout",
          "text": [
            "Ingresa una calificación del 0 al 5: -2\n",
            "Calificación inválida\n",
            "Ingresa una calificación válida del 0 al 5: 4\n",
            "La calificación 4.0 es valida, has ingresado 1 datos\n",
            "Ingresa una calificación del 0 al 5: 6\n",
            "Calificación inválida\n",
            "Ingresa una calificación válida del 0 al 5: 5\n",
            "La calificación 5.0 es valida, has ingresado 2 datos\n",
            "Ingresa una calificación del 0 al 5: 4\n",
            "La calificación 4.0 es valida, has ingresado 3 datos\n",
            "Ingresa una calificación del 0 al 5: 4\n",
            "La calificación 4.0 es valida, has ingresado 4 datos\n",
            "Ingresa una calificación del 0 al 5: 4\n",
            "La calificación 4.0 es valida, has ingresado 5 datos\n",
            "Ingresa una calificación del 0 al 5: 4\n",
            "La calificación 4.0 es valida, has ingresado 6 datos\n",
            "Ingresa una calificación del 0 al 5: 4\n",
            "La calificación 4.0 es valida, has ingresado 7 datos\n",
            "Ingresa una calificación del 0 al 5: 4\n",
            "La calificación 4.0 es valida, has ingresado 8 datos\n",
            "Ingresa una calificación del 0 al 5: 4\n",
            "La calificación 4.0 es valida, has ingresado 9 datos\n",
            "Ingresa una calificación del 0 al 5: 4\n",
            "La calificación 4.0 es valida, has ingresado 10 datos\n",
            "Ingresa una calificación del 0 al 5: 4\n",
            "La calificación 4.0 es valida, has ingresado 11 datos\n",
            "Ingresa una calificación del 0 al 5: 4\n",
            "La calificación 4.0 es valida, has ingresado 12 datos\n",
            "Ingresa una calificación del 0 al 5: 4\n",
            "La calificación 4.0 es valida, has ingresado 13 datos\n",
            "Ingresa una calificación del 0 al 5: 4\n",
            "La calificación 4.0 es valida, has ingresado 14 datos\n",
            "Ingresa una calificación del 0 al 5: 4\n",
            "La calificación 4.0 es valida, has ingresado 15 datos\n"
          ]
        }
      ]
    },
    {
      "cell_type": "code",
      "source": [
        "#4 - Desarrolla un programa que lea un conjunto indefinido de temperaturas en grados Celsius y calcule su promedio. La lectura debe detenerse al ingresar el valor -273°C.\n",
        "temperatura = 0\n",
        "contador = 0\n",
        "suma = 0\n",
        "while contador != -1:\n",
        "  temperatura = float(input(\"Por favor ingrese una temperatura en grados celsius: \"))\n",
        "  if temperatura == -273:\n",
        "    promedio = suma / contador\n",
        "    print (f\"El promedio de la temperatura es {promedio}\")\n",
        "    break\n",
        "  else:\n",
        "    print(f\"Has ingresado {temperatura} celcius\")\n",
        "    contador += 1\n",
        "    suma += temperatura"
      ],
      "metadata": {
        "id": "3vIzA3ZCm5Nd",
        "outputId": "c596e71a-1674-45af-dbb7-217228df03c6",
        "colab": {
          "base_uri": "https://localhost:8080/"
        }
      },
      "execution_count": 9,
      "outputs": [
        {
          "output_type": "stream",
          "name": "stdout",
          "text": [
            "Por favor ingrese una temperatura en grados celsius: 10\n",
            "Has ingresado 10.0 celcius\n",
            "Por favor ingrese una temperatura en grados celsius: 20\n",
            "Has ingresado 20.0 celcius\n",
            "Por favor ingrese una temperatura en grados celsius: 30\n",
            "Has ingresado 30.0 celcius\n",
            "Por favor ingrese una temperatura en grados celsius: -273\n",
            "El promedio de la temperatura es 20.0\n"
          ]
        }
      ]
    },
    {
      "cell_type": "markdown",
      "source": [
        "# Estructuras de datos"
      ],
      "metadata": {
        "id": "8noP8OJ0Vhux"
      }
    },
    {
      "cell_type": "code",
      "source": [],
      "metadata": {
        "id": "SnMu4IYoVUGu"
      },
      "execution_count": null,
      "outputs": []
    },
    {
      "cell_type": "markdown",
      "source": [
        "Un conjunto de elementos es una colección de items, que son almacenados juntos de manera organizada. Algunos ejemplos de conjuntos de elementos en Python son las listas, los strings y los diccionarios."
      ],
      "metadata": {
        "id": "xpEUkefTu8fY"
      }
    },
    {
      "cell_type": "markdown",
      "source": [
        "## Listas"
      ],
      "metadata": {
        "id": "THSg4KYLwxIb"
      }
    },
    {
      "cell_type": "markdown",
      "source": [
        "Las listas pueden almacenar una colección de items en orden. Ellas son delimitadas por corchetes `[]` y sus elementos son separados por comas.\n",
        "\n",
        "Estas pueden almacenar cualquier tipo de items, incluyendo números, strings, objetos, otras listas, entre otros. También nos permiten almacenar items de tipos de datos diferentes juntos en una única lista."
      ],
      "metadata": {
        "id": "dzpsiqrOyJcK"
      }
    },
    {
      "cell_type": "code",
      "source": [
        "lista = ['Penélope Camacho',9.5,9.0,9.7,True]\n",
        "lista"
      ],
      "metadata": {
        "id": "DO3TBj7nAYeG",
        "colab": {
          "base_uri": "https://localhost:8080/"
        },
        "outputId": "f3eafa2a-596a-457f-bac2-c01ed3af80fd"
      },
      "execution_count": null,
      "outputs": [
        {
          "output_type": "execute_result",
          "data": {
            "text/plain": [
              "['Penélope Camacho', 9.5, 9.0, 9.7, True]"
            ]
          },
          "metadata": {},
          "execution_count": 8
        }
      ]
    },
    {
      "cell_type": "code",
      "source": [],
      "metadata": {
        "id": "DO2ubP9N9D_2"
      },
      "execution_count": null,
      "outputs": []
    },
    {
      "cell_type": "markdown",
      "source": [
        "Las listas son organizadas en Python porque **cada elemento de la lista tiene un índice que indica su posición al interior de la lista**. Los índices comienzan en 0 van hasta el tamaño de la lista menos 1."
      ],
      "metadata": {
        "id": "qUz3sJNl6LgK"
      }
    },
    {
      "cell_type": "markdown",
      "source": [
        "Tenemos entonces 5 elementos con índices que varían de 0 a 4, ordenadamente:\n",
        "\n",
        "```\n",
        "#             [0]           [1]   [2]   [3]    [4]\n",
        "lista = ['Penélope Camacho', 9.5 , 9.0 , 9.7 , True]\n",
        "```\n",
        "\n",
        "En Python tenemos también los índices **negativos** que se inician en el último elemento con el valor de `-1` y avanzan en el universo de los negativos hasta llegar al 1° elemento:\n",
        "\n",
        "```\n",
        "#             [-5]         [-4]  [-3]  [-2]   [-1]\n",
        "lista = ['Penélope Camacho', 9.5 , 9.0 , 9.7 , True]\n",
        "```\n",
        "\n",
        "Logramos seleccionar separadamente cada elemento a través de sus respectivos índices. Colocando el nombre de la lista y en seguida el índice que será seleccionado."
      ],
      "metadata": {
        "id": "rLf-Qg526hFD"
      }
    },
    {
      "cell_type": "code",
      "source": [],
      "metadata": {
        "id": "4hco1Zqy88Kw"
      },
      "execution_count": null,
      "outputs": []
    },
    {
      "cell_type": "code",
      "source": [],
      "metadata": {
        "id": "M8lH0I2288Ph"
      },
      "execution_count": null,
      "outputs": []
    },
    {
      "cell_type": "markdown",
      "source": [
        "Una forma más dinámica de trabajar item a item en una lista es utilizando un lazo `for` para leer un elemento a la vez."
      ],
      "metadata": {
        "id": "6TaE1ijmBTCd"
      }
    },
    {
      "cell_type": "code",
      "source": [],
      "metadata": {
        "id": "rBx4Yu1786Sy"
      },
      "execution_count": null,
      "outputs": []
    },
    {
      "cell_type": "markdown",
      "source": [
        "**Situación**: La nota `9.0` de Penélope necesita ser ajustada pues ganó 1 punto en su última nota por participación en clase. Entonces es necesario realizar un cambio en el índice `2` de `9.0` a `10.0`."
      ],
      "metadata": {
        "id": "Dh1_HnIVvucY"
      }
    },
    {
      "cell_type": "code",
      "source": [],
      "metadata": {
        "id": "bVPoZg668z3T"
      },
      "execution_count": null,
      "outputs": []
    },
    {
      "cell_type": "code",
      "source": [],
      "metadata": {
        "id": "Jo_PBQ0g8z7D"
      },
      "execution_count": null,
      "outputs": []
    },
    {
      "cell_type": "markdown",
      "source": [
        "También podemos calcular el promedio del estudiante a partir de los datos que tenemos."
      ],
      "metadata": {
        "id": "53XduzXkycAf"
      }
    },
    {
      "cell_type": "code",
      "source": [],
      "metadata": {
        "id": "SIH61Rrb8yv4"
      },
      "execution_count": null,
      "outputs": []
    },
    {
      "cell_type": "markdown",
      "source": [
        "## Manipulación de listas\n",
        "\n",
        "Las listas son muy útiles en Python porque nos permiten almacenar y acceder a una colección de items de manera organizada y rápida. Estas también ofrecen muchos métodos útiles para manipular los itens almacenados, como adicionar, remover, clasificar y buscar elementos."
      ],
      "metadata": {
        "id": "d-iYr10-y4qw"
      }
    },
    {
      "cell_type": "markdown",
      "source": [
        "#### Cantidad de elementos\n",
        "\n",
        "Usamos la función [`len()`](https://docs.python.org/3/library/functions.html#len) para descubrir la cantidad de elementos de un conjunto."
      ],
      "metadata": {
        "id": "ZLqx9A97XVB_"
      }
    },
    {
      "cell_type": "code",
      "source": [],
      "metadata": {
        "id": "6q1Tmm7P8wQf"
      },
      "execution_count": null,
      "outputs": []
    },
    {
      "cell_type": "markdown",
      "source": [
        "#### Partición\n",
        "\n",
        "La partición de listas por indexación en Python es una técnica muy útil para seleccionar un subconjunto de elementos de una lista. Esta se realiza usando la sintaxis `lista[inicio:fin]`, donde `inicio` es el índice del primer elemento que será incluído en la partición `fin` es el índice del primer elemento que será excluído de la partición."
      ],
      "metadata": {
        "id": "Z5tpstlHJss3"
      }
    },
    {
      "cell_type": "code",
      "source": [],
      "metadata": {
        "id": "NctvJTTU8uV9"
      },
      "execution_count": null,
      "outputs": []
    },
    {
      "cell_type": "code",
      "source": [],
      "metadata": {
        "id": "bQZUwldj8uY2"
      },
      "execution_count": null,
      "outputs": []
    },
    {
      "cell_type": "markdown",
      "source": [
        "#### [`append()`](https://docs.python.org/3/tutorial/datastructures.html#:~:text=of%20list%20objects%3A-,list.append(x),-Add%20an%20item)\n",
        "\n",
        "Añade un elemento al final de la lista."
      ],
      "metadata": {
        "id": "O0RRyabkRzZC"
      }
    },
    {
      "cell_type": "code",
      "source": [],
      "metadata": {
        "id": "_Q0oODwa8spC"
      },
      "execution_count": null,
      "outputs": []
    },
    {
      "cell_type": "code",
      "source": [],
      "metadata": {
        "id": "RM894r2M8sse"
      },
      "execution_count": null,
      "outputs": []
    },
    {
      "cell_type": "markdown",
      "source": [
        "#### [`extend()`](https://docs.python.org/3/tutorial/datastructures.html#:~:text=list.extend(iterable))\n",
        "\n",
        "Añade varios elementos al final de la lista.\n",
        "\n",
        "Añadiremos las notas `[10.0,8.0,9.0]` En la lista de Penélope Camacho."
      ],
      "metadata": {
        "id": "uQV91XMsUOJD"
      }
    },
    {
      "cell_type": "code",
      "source": [],
      "metadata": {
        "id": "6Zk2MpMw8rQc"
      },
      "execution_count": null,
      "outputs": []
    },
    {
      "cell_type": "code",
      "source": [],
      "metadata": {
        "id": "NnoKkoWb8rTQ"
      },
      "execution_count": null,
      "outputs": []
    },
    {
      "cell_type": "markdown",
      "source": [
        "*A continuación te mostraremos lo que no puede realizarse con* `append`."
      ],
      "metadata": {
        "id": "IVJvkTwNUk6M"
      }
    },
    {
      "cell_type": "code",
      "source": [],
      "metadata": {
        "id": "u3Eub2ZL8pp3"
      },
      "execution_count": null,
      "outputs": []
    },
    {
      "cell_type": "code",
      "source": [],
      "metadata": {
        "id": "tsKK5Ne58pvN"
      },
      "execution_count": null,
      "outputs": []
    },
    {
      "cell_type": "markdown",
      "source": [
        "#### [`remove()`](https://docs.python.org/3/tutorial/datastructures.html#:~:text=append(x).-,list.remove(x),-Remove%20the%20first)\n",
        "\n",
        "Remueve un elemento específico de la lista."
      ],
      "metadata": {
        "id": "dPGM5gpyUX1z"
      }
    },
    {
      "cell_type": "code",
      "source": [],
      "metadata": {
        "id": "mmboODPc8nd5"
      },
      "execution_count": null,
      "outputs": []
    },
    {
      "cell_type": "code",
      "source": [],
      "metadata": {
        "id": "T_w6vVgV8nh_"
      },
      "execution_count": null,
      "outputs": []
    },
    {
      "cell_type": "markdown",
      "source": [
        "## Diccionario"
      ],
      "metadata": {
        "id": "Rc22Vc08YDZ2"
      }
    },
    {
      "cell_type": "markdown",
      "source": [
        "Los diccionarios son un tipo de estructura de datos que almacenan pares de *llave-valor*. Estos son delimitados por llaves `{}` y los pares *llave-valor* son separados por comas.\n",
        "\n",
        "```\n",
        "diccionario = {llave: valor}\n",
        "```\n",
        "\n",
        "La **llave** es un elemento único que identifica a un valor en el diccionario, mientras que el **valor** es el item que será almacenado para la llave. Las llaves y sus respectivos valores se pueden emplear para **cualquier tipo de dato**.\n",
        "\n",
        "Los diccionarios son útiles para almacenar y acceder a los datos de manera organizada y rápida. Se trata de un tipo de conjunto de elementos en Python, pues almacenan una colección de items."
      ],
      "metadata": {
        "id": "PJ-cCKPjeWxL"
      }
    },
    {
      "cell_type": "code",
      "source": [],
      "metadata": {
        "id": "NDHhzooE8ld5"
      },
      "execution_count": null,
      "outputs": []
    },
    {
      "cell_type": "code",
      "source": [],
      "metadata": {
        "id": "AVOzqzy-8lhh"
      },
      "execution_count": null,
      "outputs": []
    },
    {
      "cell_type": "markdown",
      "source": [
        "---\n",
        "**Situación:**\n",
        "\n",
        "Vamos a crear un conjunto de datos con las informaciones de matrícula de un estudiante. Los datos son los siguientes:\n",
        "\n",
        "- matrícula: 2000168933\n",
        "- día de registro: 25\n",
        "- mes de registro: 10\n",
        "- grupo: 2E"
      ],
      "metadata": {
        "id": "_JbQ3KMKfkXU"
      }
    },
    {
      "cell_type": "code",
      "source": [],
      "metadata": {
        "id": "0lfOu_c38jED"
      },
      "execution_count": null,
      "outputs": []
    },
    {
      "cell_type": "code",
      "source": [],
      "metadata": {
        "id": "XIuqpTTy8jHV"
      },
      "execution_count": null,
      "outputs": []
    },
    {
      "cell_type": "markdown",
      "source": [
        "Es posible sustituir los valores dentro de una llave. Por ejemplo, recibimos la información de que el grupo del estudiante que registramos cambio a `'2G'` y ahora necesitamos cambiar el valor de la llave `'grupo'`."
      ],
      "metadata": {
        "id": "8ex5pt2ykDd2"
      }
    },
    {
      "cell_type": "code",
      "source": [],
      "metadata": {
        "id": "kQGlp36b8fyP"
      },
      "execution_count": null,
      "outputs": []
    },
    {
      "cell_type": "code",
      "source": [],
      "metadata": {
        "id": "DnfH_qHi8f17"
      },
      "execution_count": null,
      "outputs": []
    },
    {
      "cell_type": "markdown",
      "source": [
        "También podemos añadir otros datos al diccionario. Vamos a añadir la información sobre la modalidad de estudio, nuestro estudiante estudiará inicialemente en la modalidad EAD.\n",
        "\n",
        "Definiremos una llave llamada `'modalidad'` con el valor `'EAD'`."
      ],
      "metadata": {
        "id": "wB0qRb56mQvv"
      }
    },
    {
      "cell_type": "code",
      "source": [],
      "metadata": {
        "id": "EeLYdlIm8d8a"
      },
      "execution_count": null,
      "outputs": []
    },
    {
      "cell_type": "code",
      "source": [],
      "metadata": {
        "id": "olDIavsm8d_o"
      },
      "execution_count": null,
      "outputs": []
    },
    {
      "cell_type": "markdown",
      "source": [
        "## Profundizando en diccionarios"
      ],
      "metadata": {
        "id": "LJ3o_inroxg_"
      }
    },
    {
      "cell_type": "markdown",
      "source": [
        "#### [`pop()`](https://python-reference.readthedocs.io/en/latest/docs/dict/pop.html)\n",
        "Remueve un item de un diccionario y lo representa en la salida."
      ],
      "metadata": {
        "id": "2N3GLlkSpBiu"
      }
    },
    {
      "cell_type": "code",
      "source": [],
      "metadata": {
        "id": "ZsSCZx6G8b-T"
      },
      "execution_count": null,
      "outputs": []
    },
    {
      "cell_type": "code",
      "source": [],
      "metadata": {
        "id": "7lQ8_jpi8cBR"
      },
      "execution_count": null,
      "outputs": []
    },
    {
      "cell_type": "markdown",
      "source": [
        "#### [`items()`](https://python-reference.readthedocs.io/en/latest/docs/dict/items.html)\n",
        "Retorna una lista de pares `llave-valor` del diccionario."
      ],
      "metadata": {
        "id": "sYZGvJJYrW_y"
      }
    },
    {
      "cell_type": "code",
      "source": [],
      "metadata": {
        "id": "ncdycLV08an7"
      },
      "execution_count": null,
      "outputs": []
    },
    {
      "cell_type": "markdown",
      "source": [
        "#### [`keys()`](https://python-reference.readthedocs.io/en/latest/docs/dict/keys.html)\n",
        "Retorna una lista de las llaves del diccionario."
      ],
      "metadata": {
        "id": "Lb0utNFGrZBY"
      }
    },
    {
      "cell_type": "code",
      "source": [],
      "metadata": {
        "id": "eZo0biaM8ZVs"
      },
      "execution_count": null,
      "outputs": []
    },
    {
      "cell_type": "markdown",
      "source": [
        "#### [`values()`](https://python-reference.readthedocs.io/en/latest/docs/dict/values.html)\n",
        "Retorna una lista de los valores del diccionario."
      ],
      "metadata": {
        "id": "qKyu3bf9rbtX"
      }
    },
    {
      "cell_type": "code",
      "source": [],
      "metadata": {
        "id": "-NxRT9C18Yvo"
      },
      "execution_count": null,
      "outputs": []
    },
    {
      "cell_type": "markdown",
      "source": [
        "### Lectura de valores con el lazo `for`"
      ],
      "metadata": {
        "id": "e3XVjR8Frp75"
      }
    },
    {
      "cell_type": "code",
      "source": [],
      "metadata": {
        "id": "NYcjU-Ip8Xan"
      },
      "execution_count": null,
      "outputs": []
    },
    {
      "cell_type": "code",
      "source": [],
      "metadata": {
        "id": "aAnpP1Wv8XfJ"
      },
      "execution_count": null,
      "outputs": []
    }
  ]
}